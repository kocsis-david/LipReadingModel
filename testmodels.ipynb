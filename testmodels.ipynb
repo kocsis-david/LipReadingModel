{
 "cells": [
  {
   "cell_type": "code",
   "execution_count": 1,
   "id": "initial_id",
   "metadata": {
    "ExecuteTime": {
     "end_time": "2024-04-15T00:10:20.589651Z",
     "start_time": "2024-04-15T00:10:20.581348Z"
    }
   },
   "outputs": [],
   "source": [
    "import csv\n",
    "import pandas as pd\n",
    "from sklearn.preprocessing import OneHotEncoder\n",
    "def save_data(lips, Y, data_type):\n",
    "    with open(f'{data_type}_lips.csv', mode='w', newline='') as file:\n",
    "        writer = csv.writer(file)\n",
    "        header = ['label']\n",
    "        for i in range(lips[0].shape[0]): #frames\n",
    "            for j in range(lips[0].shape[1]): #height\n",
    "                for k in range(lips[0].shape[2]): #width\n",
    "                    header.append(f'pixel_{i}_{j}_{k}')\n",
    "        writer.writerow(header)\n",
    "        for i in range(len(lips)):\n",
    "            row = [Y[i].argmax()]\n",
    "            current_lips = lips[i].flatten()\n",
    "            for j in range(len(current_lips)):\n",
    "                row.append(current_lips[j])\n",
    "            writer.writerow(row)\n",
    "            \n",
    "            \n",
    "def load_data():\n",
    "    X_train = pd.read_csv('train_lips.csv')\n",
    "    Y_train = X_train['label']\n",
    "    del X_train['label']\n",
    "    X_valid = pd.read_csv('valid_lips.csv')\n",
    "    Y_valid = X_valid['label']\n",
    "    del X_valid['label']\n",
    "    \n",
    "    X_test = pd.read_csv('test_lips.csv')\n",
    "    Y_test = X_test['label']\n",
    "    del X_test['label']\n",
    "    return X_train, Y_train, X_valid, Y_valid, X_test, Y_test"
   ]
  },
  {
   "cell_type": "code",
   "execution_count": 2,
   "id": "d9872dac7494da31",
   "metadata": {
    "ExecuteTime": {
     "end_time": "2024-04-15T00:13:09.705119Z",
     "start_time": "2024-04-15T00:10:22.254412Z"
    },
    "collapsed": false
   },
   "outputs": [],
   "source": [
    "# loading the data from the csv files\n",
    "# loading the data from the csv files\n",
    "X_train, Y_train, X_valid, Y_valid, X_test, Y_test = load_data()\n",
    "import numpy as np\n",
    "import tensorflow\n",
    "x_train = np.array(X_train, dtype='float32').reshape(-1, 11, 60, 100, 1)\n",
    "x_valid = np.array(X_valid, dtype='float32').reshape(-1, 11, 60, 100, 1)\n",
    "x_test = np.array(X_test, dtype='float32').reshape(-1, 11, 60, 100, 1)\n",
    "\n",
    "onehot_encoder = OneHotEncoder()\n",
    "    \n",
    "Y_train_reshaped = np.array(Y_train).reshape(-1, 1)\n",
    "Y_valid_reshaped = np.array(Y_valid).reshape(-1, 1)\n",
    "Y_test_reshaped = np.array(Y_test).reshape(-1, 1)\n",
    "\n",
    "Y_train_onehot = onehot_encoder.fit_transform(Y_train_reshaped)\n",
    "Y_valid_onehot = onehot_encoder.fit_transform(Y_valid_reshaped)\n",
    "Y_test_onehot = onehot_encoder.fit_transform(Y_test_reshaped)\n",
    "    \n",
    "# Convert one-hot encoded arrays to dense arrays\n",
    "Y_train = Y_train_onehot.toarray()\n",
    "Y_valid = Y_valid_onehot.toarray()\n",
    "Y_test = Y_test_onehot.toarray()\n",
    "\n",
    "\n",
    "nb_classes=Y_train\n"
   ]
  },
  {
   "cell_type": "code",
   "execution_count": 6,
   "id": "3f78c1b894781b61",
   "metadata": {
    "ExecuteTime": {
     "end_time": "2024-04-15T00:13:09.745608Z",
     "start_time": "2024-04-15T00:13:09.714076Z"
    },
    "collapsed": false
   },
   "outputs": [
    {
     "name": "stdout",
     "output_type": "stream",
     "text": [
      "(4768, 11, 60, 100, 1)\n"
     ]
    }
   ],
   "source": [
    "mean=x_train.mean(axis=0)\n",
    "std=x_train.std(axis=0)\n",
    "\n",
    "X_train=np.array((x_train-mean)/std)\n",
    "X_valid=np.array((x_valid-mean)/std)\n",
    "X_test=np.array((x_test-mean)/std)\n",
    "\n",
    "print(X_train.shape)\n"
   ]
  },
  {
   "cell_type": "code",
   "execution_count": 7,
   "id": "8e704e1b999f1a03",
   "metadata": {
    "ExecuteTime": {
     "end_time": "2024-04-15T00:13:09.749065Z",
     "start_time": "2024-04-15T00:13:09.747237Z"
    },
    "collapsed": false
   },
   "outputs": [],
   "source": [
    "import tensorflow as tf\n"
   ]
  },
  {
   "cell_type": "code",
   "execution_count": null,
   "id": "d738c931bdb7d24e",
   "metadata": {
    "ExecuteTime": {
     "end_time": "2024-04-14T10:27:21.852535Z",
     "start_time": "2024-04-14T10:27:21.686913Z"
    },
    "collapsed": false
   },
   "outputs": [],
   "source": [
    "model = tf.keras.models.Sequential()\n",
    "model.add(tf.keras.layers.Conv3D(64, kernel_size=(4, 5, 5), activation='relu', input_shape=(11, 60, 100, 1)))\n",
    "model.add(tf.keras.layers.MaxPooling3D(pool_size=(2, 3, 4)))\n",
    "model.add(tf.keras.layers.BatchNormalization())\n",
    "model.add(tf.keras.layers.Flatten())\n",
    "model.add(tf.keras.layers.Dense(128, activation='relu'))\n",
    "model.add(tf.keras.layers.Dropout(0.5))\n",
    "model.add(tf.keras.layers.Dense(64, activation='relu'))\n",
    "model.add(tf.keras.layers.Dropout(0.5))\n",
    "model.add(tf.keras.layers.Dense(nb_classes, activation='softmax'))\n",
    "\n",
    "model.compile(loss='categorical_crossentropy', optimizer='adam', metrics=['accuracy'])"
   ]
  },
  {
   "cell_type": "code",
   "execution_count": null,
   "id": "a8e1403d51c1af40",
   "metadata": {
    "ExecuteTime": {
     "end_time": "2024-04-14T10:27:22.935948Z",
     "start_time": "2024-04-14T10:27:22.905349Z"
    },
    "collapsed": false
   },
   "outputs": [],
   "source": [
    "model.summary()"
   ]
  },
  {
   "cell_type": "code",
   "execution_count": null,
   "id": "ef6b76258db8ef91",
   "metadata": {
    "ExecuteTime": {
     "end_time": "2024-04-14T10:30:03.861907Z",
     "start_time": "2024-04-14T10:30:03.858985Z"
    },
    "collapsed": false
   },
   "outputs": [],
   "source": [
    "es=tf.keras.callbacks.EarlyStopping(monitor='val_accuracy', mode='min', verbose=1, patience=5)"
   ]
  },
  {
   "cell_type": "code",
   "execution_count": null,
   "id": "c8610bed5389ca8",
   "metadata": {
    "ExecuteTime": {
     "end_time": "2024-04-14T10:39:17.785396Z",
     "start_time": "2024-04-14T10:30:04.436860Z"
    },
    "collapsed": false
   },
   "outputs": [],
   "source": [
    "model.fit(x_train, y_train, batch_size=32, epochs=10, verbose=1, validation_data=(x_valid, y_valid,), callbacks=[es])"
   ]
  },
  {
   "cell_type": "code",
   "execution_count": null,
   "id": "e8ca170a5f8ea4e1",
   "metadata": {
    "ExecuteTime": {
     "end_time": "2024-04-14T10:39:22.981346Z",
     "start_time": "2024-04-14T10:39:21.606416Z"
    },
    "collapsed": false
   },
   "outputs": [],
   "source": [
    "from sklearn.metrics import classification_report\n",
    "\n",
    "preds = model.predict(x_test)\n",
    "\n",
    "print(classification_report(np.argmax(y_test,1),np.argmax(preds,1)))"
   ]
  },
  {
   "cell_type": "code",
   "execution_count": null,
   "id": "f6a6302cc7309a12",
   "metadata": {
    "ExecuteTime": {
     "end_time": "2024-04-14T10:39:35.661812Z",
     "start_time": "2024-04-14T10:39:35.223709Z"
    },
    "collapsed": false
   },
   "outputs": [],
   "source": [
    "model.save('model.simple.keras')  "
   ]
  },
  {
   "cell_type": "code",
   "execution_count": null,
   "id": "6c4f25da9f9a7c37",
   "metadata": {
    "collapsed": false
   },
   "outputs": [],
   "source": [
    "model= tf.keras.models.load_model('model.simple.keras')"
   ]
  },
  {
   "cell_type": "code",
   "execution_count": 19,
   "id": "3f85d59d3d3c21dd",
   "metadata": {
    "ExecuteTime": {
     "end_time": "2024-04-15T00:13:09.840987Z",
     "start_time": "2024-04-15T00:13:09.749882Z"
    },
    "collapsed": false
   },
   "outputs": [],
   "source": [
    "from tensorflow.keras.models import Sequential\n",
    "from tensorflow.keras.layers import Conv2D, Conv3D, MaxPooling3D, Flatten, Dense, Dropout, BatchNormalization, Input, ReLU, GlobalAveragePooling3D, add\n",
    "from keras.models import Model\n",
    "\n",
    "output_shape = 6\n",
    "input = Input(shape=(11, 60, 100, 1))\n",
    "\n",
    "'''block_0'''\n",
    "b0_conv3d_1 = Conv3D(64, kernel_size=(2, 3, 3), padding='same', use_bias=False,\n",
    "                     name='b0_conv3d_1', kernel_initializer = 'he_normal')(input)\n",
    "b0_relu_1 = ReLU(name='b0_relu_1')(b0_conv3d_1)\n",
    "b0_bn_1 = BatchNormalization(name='b0_bn_1')(b0_relu_1)\n",
    "b0_out =  MaxPooling3D(pool_size=(2, 2, 2))(b0_bn_1)\n",
    "\n",
    "'''block_1'''\n",
    "b1_cnv3d_1 = Conv3D(filters=16, kernel_size=(3, 3, 3), strides=(2, 2, 2), padding='same',\n",
    "                        use_bias=False, name='b1_cnv3d_1', kernel_initializer=HeNormal())(b0_out)\n",
    "b1_relu_1 = ReLU(name='b1_relu_1')(b1_cnv3d_1)\n",
    "b1_bn_1 = BatchNormalization(name='b1_bn_1')(b1_relu_1)  # size: 14*14\n",
    "\n",
    "b1_cnv3d_2 = Conv3D(filters=32, kernel_size=(1, 1, 1), strides=(2, 2, 2), padding='same',\n",
    "                    use_bias=False, name='b1_cnv3d_2', kernel_initializer=HeNormal())(b1_bn_1)\n",
    "b1_relu_2 = ReLU(name='b1_relu_2')(b1_cnv3d_2)\n",
    "b1_out = BatchNormalization(name='b1_out')(b1_relu_2)  # size: 14*14\n",
    "\n",
    "\n",
    "'''block 2'''\n",
    "b2_cnv3d_1 = Conv3D(filters=32, kernel_size=(1, 1, 1), strides=(1, 1, 1), padding='same',\n",
    "                    use_bias=False, name='b2_cnv3d_1', kernel_initializer=HeNormal())(b1_out)\n",
    "b2_relu_1 = ReLU(name='b2_relu_1')(b2_cnv3d_1)\n",
    "b2_bn_1 = BatchNormalization(name='b2_bn_1')(b2_relu_1)  # size: 14*14\n",
    "\n",
    "b2_add = add([b1_out, b2_bn_1])  #\n",
    "\n",
    "b2_cnv3d_2 = Conv3D(filters=64, kernel_size=(3, 3, 3), strides=(2, 2, 2), padding='same',\n",
    "                    use_bias=False, name='b2_cnv3d_2', kernel_initializer=HeNormal())(b2_add)\n",
    "b2_relu_2 = ReLU(name='b2_relu_2')(b2_cnv3d_2)\n",
    "b2_out = BatchNormalization(name='b2_bn_2')(b2_relu_2)  # size: 7*7\n",
    "\n",
    "'''block 3'''\n",
    "b3_cnv3d_1 = Conv3D(filters=64, kernel_size=(1, 1, 1), strides=(1, 1, 1), padding='same',\n",
    "                    use_bias=False, name='b3_cnv3d_1', kernel_initializer=HeNormal())(b2_out)\n",
    "b3_relu_1 = ReLU(name='b3_relu_1')(b3_cnv3d_1)\n",
    "b3_bn_1 = BatchNormalization(name='b3_bn_1')(b3_relu_1)  # size: 7*7\n",
    "\n",
    "b3_add = add([b2_out, b3_bn_1])  #\n",
    "\n",
    "b3_cnv3d_2 = Conv3D(filters=128, kernel_size=(3, 3, 3), strides=(2, 2, 2), padding='same',\n",
    "                    use_bias=False, name='b3_cnv3d_2', kernel_initializer=HeNormal())(b3_add)\n",
    "b3_relu_2 = ReLU(name='b3_relu_2')(b3_cnv3d_2)\n",
    "b3_out = BatchNormalization(name='b3_out')(b3_relu_2)  # size: 3*3\n",
    "\n",
    "\n",
    "'''block 4'''\n",
    "b4_avg_p = GlobalAveragePooling3D()(b3_out)\n",
    "output = Dense(output_shape, name='model_output', activation='softmax',\n",
    "                       kernel_initializer='he_uniform')(b4_avg_p)\n",
    "\n",
    "model = Model(input, output)"
   ]
  },
  {
   "cell_type": "code",
   "execution_count": 20,
   "id": "4fc96f06cb392a0a",
   "metadata": {
    "ExecuteTime": {
     "end_time": "2024-04-15T00:13:09.846119Z",
     "start_time": "2024-04-15T00:13:09.841697Z"
    },
    "collapsed": false
   },
   "outputs": [],
   "source": [
    "model.compile(loss='categorical_crossentropy', optimizer='adam', metrics=['accuracy'])"
   ]
  },
  {
   "cell_type": "code",
   "execution_count": 21,
   "id": "d77d6e44fb2f0910",
   "metadata": {
    "ExecuteTime": {
     "end_time": "2024-04-15T00:09:59.568350Z",
     "start_time": "2024-04-15T00:09:59.533866Z"
    },
    "collapsed": false
   },
   "outputs": [
    {
     "data": {
      "text/html": [
       "<pre style=\"white-space:pre;overflow-x:auto;line-height:normal;font-family:Menlo,'DejaVu Sans Mono',consolas,'Courier New',monospace\"><span style=\"font-weight: bold\">Model: \"functional_5\"</span>\n",
       "</pre>\n"
      ],
      "text/plain": [
       "\u001B[1mModel: \"functional_5\"\u001B[0m\n"
      ]
     },
     "metadata": {},
     "output_type": "display_data"
    },
    {
     "data": {
      "text/html": [
       "<pre style=\"white-space:pre;overflow-x:auto;line-height:normal;font-family:Menlo,'DejaVu Sans Mono',consolas,'Courier New',monospace\">┏━━━━━━━━━━━━━━━━━━━━━┳━━━━━━━━━━━━━━━━━━━┳━━━━━━━━━━━━┳━━━━━━━━━━━━━━━━━━━┓\n",
       "┃<span style=\"font-weight: bold\"> Layer (type)        </span>┃<span style=\"font-weight: bold\"> Output Shape      </span>┃<span style=\"font-weight: bold\">    Param # </span>┃<span style=\"font-weight: bold\"> Connected to      </span>┃\n",
       "┡━━━━━━━━━━━━━━━━━━━━━╇━━━━━━━━━━━━━━━━━━━╇━━━━━━━━━━━━╇━━━━━━━━━━━━━━━━━━━┩\n",
       "│ input_layer_2       │ (<span style=\"color: #00d7ff; text-decoration-color: #00d7ff\">None</span>, <span style=\"color: #00af00; text-decoration-color: #00af00\">11</span>, <span style=\"color: #00af00; text-decoration-color: #00af00\">60</span>,    │          <span style=\"color: #00af00; text-decoration-color: #00af00\">0</span> │ -                 │\n",
       "│ (<span style=\"color: #0087ff; text-decoration-color: #0087ff\">InputLayer</span>)        │ <span style=\"color: #00af00; text-decoration-color: #00af00\">100</span>, <span style=\"color: #00af00; text-decoration-color: #00af00\">1</span>)           │            │                   │\n",
       "├─────────────────────┼───────────────────┼────────────┼───────────────────┤\n",
       "│ b0_conv3d_1         │ (<span style=\"color: #00d7ff; text-decoration-color: #00d7ff\">None</span>, <span style=\"color: #00af00; text-decoration-color: #00af00\">11</span>, <span style=\"color: #00af00; text-decoration-color: #00af00\">60</span>,    │      <span style=\"color: #00af00; text-decoration-color: #00af00\">1,152</span> │ input_layer_2[<span style=\"color: #00af00; text-decoration-color: #00af00\">0</span>]… │\n",
       "│ (<span style=\"color: #0087ff; text-decoration-color: #0087ff\">Conv3D</span>)            │ <span style=\"color: #00af00; text-decoration-color: #00af00\">100</span>, <span style=\"color: #00af00; text-decoration-color: #00af00\">64</span>)          │            │                   │\n",
       "├─────────────────────┼───────────────────┼────────────┼───────────────────┤\n",
       "│ b0_relu_1 (<span style=\"color: #0087ff; text-decoration-color: #0087ff\">ReLU</span>)    │ (<span style=\"color: #00d7ff; text-decoration-color: #00d7ff\">None</span>, <span style=\"color: #00af00; text-decoration-color: #00af00\">11</span>, <span style=\"color: #00af00; text-decoration-color: #00af00\">60</span>,    │          <span style=\"color: #00af00; text-decoration-color: #00af00\">0</span> │ b0_conv3d_1[<span style=\"color: #00af00; text-decoration-color: #00af00\">0</span>][<span style=\"color: #00af00; text-decoration-color: #00af00\">0</span>] │\n",
       "│                     │ <span style=\"color: #00af00; text-decoration-color: #00af00\">100</span>, <span style=\"color: #00af00; text-decoration-color: #00af00\">64</span>)          │            │                   │\n",
       "├─────────────────────┼───────────────────┼────────────┼───────────────────┤\n",
       "│ b0_bn_1             │ (<span style=\"color: #00d7ff; text-decoration-color: #00d7ff\">None</span>, <span style=\"color: #00af00; text-decoration-color: #00af00\">11</span>, <span style=\"color: #00af00; text-decoration-color: #00af00\">60</span>,    │        <span style=\"color: #00af00; text-decoration-color: #00af00\">256</span> │ b0_relu_1[<span style=\"color: #00af00; text-decoration-color: #00af00\">0</span>][<span style=\"color: #00af00; text-decoration-color: #00af00\">0</span>]   │\n",
       "│ (<span style=\"color: #0087ff; text-decoration-color: #0087ff\">BatchNormalizatio…</span> │ <span style=\"color: #00af00; text-decoration-color: #00af00\">100</span>, <span style=\"color: #00af00; text-decoration-color: #00af00\">64</span>)          │            │                   │\n",
       "├─────────────────────┼───────────────────┼────────────┼───────────────────┤\n",
       "│ max_pooling3d_2     │ (<span style=\"color: #00d7ff; text-decoration-color: #00d7ff\">None</span>, <span style=\"color: #00af00; text-decoration-color: #00af00\">5</span>, <span style=\"color: #00af00; text-decoration-color: #00af00\">30</span>, <span style=\"color: #00af00; text-decoration-color: #00af00\">50</span>, │          <span style=\"color: #00af00; text-decoration-color: #00af00\">0</span> │ b0_bn_1[<span style=\"color: #00af00; text-decoration-color: #00af00\">0</span>][<span style=\"color: #00af00; text-decoration-color: #00af00\">0</span>]     │\n",
       "│ (<span style=\"color: #0087ff; text-decoration-color: #0087ff\">MaxPooling3D</span>)      │ <span style=\"color: #00af00; text-decoration-color: #00af00\">64</span>)               │            │                   │\n",
       "├─────────────────────┼───────────────────┼────────────┼───────────────────┤\n",
       "│ b1_cnv3d_1 (<span style=\"color: #0087ff; text-decoration-color: #0087ff\">Conv3D</span>) │ (<span style=\"color: #00d7ff; text-decoration-color: #00d7ff\">None</span>, <span style=\"color: #00af00; text-decoration-color: #00af00\">3</span>, <span style=\"color: #00af00; text-decoration-color: #00af00\">15</span>, <span style=\"color: #00af00; text-decoration-color: #00af00\">25</span>, │     <span style=\"color: #00af00; text-decoration-color: #00af00\">27,648</span> │ max_pooling3d_2[<span style=\"color: #00af00; text-decoration-color: #00af00\">…</span> │\n",
       "│                     │ <span style=\"color: #00af00; text-decoration-color: #00af00\">16</span>)               │            │                   │\n",
       "├─────────────────────┼───────────────────┼────────────┼───────────────────┤\n",
       "│ b1_relu_1 (<span style=\"color: #0087ff; text-decoration-color: #0087ff\">ReLU</span>)    │ (<span style=\"color: #00d7ff; text-decoration-color: #00d7ff\">None</span>, <span style=\"color: #00af00; text-decoration-color: #00af00\">3</span>, <span style=\"color: #00af00; text-decoration-color: #00af00\">15</span>, <span style=\"color: #00af00; text-decoration-color: #00af00\">25</span>, │          <span style=\"color: #00af00; text-decoration-color: #00af00\">0</span> │ b1_cnv3d_1[<span style=\"color: #00af00; text-decoration-color: #00af00\">0</span>][<span style=\"color: #00af00; text-decoration-color: #00af00\">0</span>]  │\n",
       "│                     │ <span style=\"color: #00af00; text-decoration-color: #00af00\">16</span>)               │            │                   │\n",
       "├─────────────────────┼───────────────────┼────────────┼───────────────────┤\n",
       "│ b1_bn_1             │ (<span style=\"color: #00d7ff; text-decoration-color: #00d7ff\">None</span>, <span style=\"color: #00af00; text-decoration-color: #00af00\">3</span>, <span style=\"color: #00af00; text-decoration-color: #00af00\">15</span>, <span style=\"color: #00af00; text-decoration-color: #00af00\">25</span>, │         <span style=\"color: #00af00; text-decoration-color: #00af00\">64</span> │ b1_relu_1[<span style=\"color: #00af00; text-decoration-color: #00af00\">0</span>][<span style=\"color: #00af00; text-decoration-color: #00af00\">0</span>]   │\n",
       "│ (<span style=\"color: #0087ff; text-decoration-color: #0087ff\">BatchNormalizatio…</span> │ <span style=\"color: #00af00; text-decoration-color: #00af00\">16</span>)               │            │                   │\n",
       "├─────────────────────┼───────────────────┼────────────┼───────────────────┤\n",
       "│ b1_cnv3d_2 (<span style=\"color: #0087ff; text-decoration-color: #0087ff\">Conv3D</span>) │ (<span style=\"color: #00d7ff; text-decoration-color: #00d7ff\">None</span>, <span style=\"color: #00af00; text-decoration-color: #00af00\">2</span>, <span style=\"color: #00af00; text-decoration-color: #00af00\">8</span>, <span style=\"color: #00af00; text-decoration-color: #00af00\">13</span>,  │        <span style=\"color: #00af00; text-decoration-color: #00af00\">512</span> │ b1_bn_1[<span style=\"color: #00af00; text-decoration-color: #00af00\">0</span>][<span style=\"color: #00af00; text-decoration-color: #00af00\">0</span>]     │\n",
       "│                     │ <span style=\"color: #00af00; text-decoration-color: #00af00\">32</span>)               │            │                   │\n",
       "├─────────────────────┼───────────────────┼────────────┼───────────────────┤\n",
       "│ b1_relu_2 (<span style=\"color: #0087ff; text-decoration-color: #0087ff\">ReLU</span>)    │ (<span style=\"color: #00d7ff; text-decoration-color: #00d7ff\">None</span>, <span style=\"color: #00af00; text-decoration-color: #00af00\">2</span>, <span style=\"color: #00af00; text-decoration-color: #00af00\">8</span>, <span style=\"color: #00af00; text-decoration-color: #00af00\">13</span>,  │          <span style=\"color: #00af00; text-decoration-color: #00af00\">0</span> │ b1_cnv3d_2[<span style=\"color: #00af00; text-decoration-color: #00af00\">0</span>][<span style=\"color: #00af00; text-decoration-color: #00af00\">0</span>]  │\n",
       "│                     │ <span style=\"color: #00af00; text-decoration-color: #00af00\">32</span>)               │            │                   │\n",
       "├─────────────────────┼───────────────────┼────────────┼───────────────────┤\n",
       "│ b1_out              │ (<span style=\"color: #00d7ff; text-decoration-color: #00d7ff\">None</span>, <span style=\"color: #00af00; text-decoration-color: #00af00\">2</span>, <span style=\"color: #00af00; text-decoration-color: #00af00\">8</span>, <span style=\"color: #00af00; text-decoration-color: #00af00\">13</span>,  │        <span style=\"color: #00af00; text-decoration-color: #00af00\">128</span> │ b1_relu_2[<span style=\"color: #00af00; text-decoration-color: #00af00\">0</span>][<span style=\"color: #00af00; text-decoration-color: #00af00\">0</span>]   │\n",
       "│ (<span style=\"color: #0087ff; text-decoration-color: #0087ff\">BatchNormalizatio…</span> │ <span style=\"color: #00af00; text-decoration-color: #00af00\">32</span>)               │            │                   │\n",
       "├─────────────────────┼───────────────────┼────────────┼───────────────────┤\n",
       "│ b2_cnv3d_1 (<span style=\"color: #0087ff; text-decoration-color: #0087ff\">Conv3D</span>) │ (<span style=\"color: #00d7ff; text-decoration-color: #00d7ff\">None</span>, <span style=\"color: #00af00; text-decoration-color: #00af00\">2</span>, <span style=\"color: #00af00; text-decoration-color: #00af00\">8</span>, <span style=\"color: #00af00; text-decoration-color: #00af00\">13</span>,  │      <span style=\"color: #00af00; text-decoration-color: #00af00\">1,024</span> │ b1_out[<span style=\"color: #00af00; text-decoration-color: #00af00\">0</span>][<span style=\"color: #00af00; text-decoration-color: #00af00\">0</span>]      │\n",
       "│                     │ <span style=\"color: #00af00; text-decoration-color: #00af00\">32</span>)               │            │                   │\n",
       "├─────────────────────┼───────────────────┼────────────┼───────────────────┤\n",
       "│ b2_relu_1 (<span style=\"color: #0087ff; text-decoration-color: #0087ff\">ReLU</span>)    │ (<span style=\"color: #00d7ff; text-decoration-color: #00d7ff\">None</span>, <span style=\"color: #00af00; text-decoration-color: #00af00\">2</span>, <span style=\"color: #00af00; text-decoration-color: #00af00\">8</span>, <span style=\"color: #00af00; text-decoration-color: #00af00\">13</span>,  │          <span style=\"color: #00af00; text-decoration-color: #00af00\">0</span> │ b2_cnv3d_1[<span style=\"color: #00af00; text-decoration-color: #00af00\">0</span>][<span style=\"color: #00af00; text-decoration-color: #00af00\">0</span>]  │\n",
       "│                     │ <span style=\"color: #00af00; text-decoration-color: #00af00\">32</span>)               │            │                   │\n",
       "├─────────────────────┼───────────────────┼────────────┼───────────────────┤\n",
       "│ b2_bn_1             │ (<span style=\"color: #00d7ff; text-decoration-color: #00d7ff\">None</span>, <span style=\"color: #00af00; text-decoration-color: #00af00\">2</span>, <span style=\"color: #00af00; text-decoration-color: #00af00\">8</span>, <span style=\"color: #00af00; text-decoration-color: #00af00\">13</span>,  │        <span style=\"color: #00af00; text-decoration-color: #00af00\">128</span> │ b2_relu_1[<span style=\"color: #00af00; text-decoration-color: #00af00\">0</span>][<span style=\"color: #00af00; text-decoration-color: #00af00\">0</span>]   │\n",
       "│ (<span style=\"color: #0087ff; text-decoration-color: #0087ff\">BatchNormalizatio…</span> │ <span style=\"color: #00af00; text-decoration-color: #00af00\">32</span>)               │            │                   │\n",
       "├─────────────────────┼───────────────────┼────────────┼───────────────────┤\n",
       "│ add_4 (<span style=\"color: #0087ff; text-decoration-color: #0087ff\">Add</span>)         │ (<span style=\"color: #00d7ff; text-decoration-color: #00d7ff\">None</span>, <span style=\"color: #00af00; text-decoration-color: #00af00\">2</span>, <span style=\"color: #00af00; text-decoration-color: #00af00\">8</span>, <span style=\"color: #00af00; text-decoration-color: #00af00\">13</span>,  │          <span style=\"color: #00af00; text-decoration-color: #00af00\">0</span> │ b1_out[<span style=\"color: #00af00; text-decoration-color: #00af00\">0</span>][<span style=\"color: #00af00; text-decoration-color: #00af00\">0</span>],     │\n",
       "│                     │ <span style=\"color: #00af00; text-decoration-color: #00af00\">32</span>)               │            │ b2_bn_1[<span style=\"color: #00af00; text-decoration-color: #00af00\">0</span>][<span style=\"color: #00af00; text-decoration-color: #00af00\">0</span>]     │\n",
       "├─────────────────────┼───────────────────┼────────────┼───────────────────┤\n",
       "│ b2_cnv3d_2 (<span style=\"color: #0087ff; text-decoration-color: #0087ff\">Conv3D</span>) │ (<span style=\"color: #00d7ff; text-decoration-color: #00d7ff\">None</span>, <span style=\"color: #00af00; text-decoration-color: #00af00\">1</span>, <span style=\"color: #00af00; text-decoration-color: #00af00\">4</span>, <span style=\"color: #00af00; text-decoration-color: #00af00\">7</span>,   │     <span style=\"color: #00af00; text-decoration-color: #00af00\">55,296</span> │ add_4[<span style=\"color: #00af00; text-decoration-color: #00af00\">0</span>][<span style=\"color: #00af00; text-decoration-color: #00af00\">0</span>]       │\n",
       "│                     │ <span style=\"color: #00af00; text-decoration-color: #00af00\">64</span>)               │            │                   │\n",
       "├─────────────────────┼───────────────────┼────────────┼───────────────────┤\n",
       "│ b2_relu_2 (<span style=\"color: #0087ff; text-decoration-color: #0087ff\">ReLU</span>)    │ (<span style=\"color: #00d7ff; text-decoration-color: #00d7ff\">None</span>, <span style=\"color: #00af00; text-decoration-color: #00af00\">1</span>, <span style=\"color: #00af00; text-decoration-color: #00af00\">4</span>, <span style=\"color: #00af00; text-decoration-color: #00af00\">7</span>,   │          <span style=\"color: #00af00; text-decoration-color: #00af00\">0</span> │ b2_cnv3d_2[<span style=\"color: #00af00; text-decoration-color: #00af00\">0</span>][<span style=\"color: #00af00; text-decoration-color: #00af00\">0</span>]  │\n",
       "│                     │ <span style=\"color: #00af00; text-decoration-color: #00af00\">64</span>)               │            │                   │\n",
       "├─────────────────────┼───────────────────┼────────────┼───────────────────┤\n",
       "│ b2_bn_2             │ (<span style=\"color: #00d7ff; text-decoration-color: #00d7ff\">None</span>, <span style=\"color: #00af00; text-decoration-color: #00af00\">1</span>, <span style=\"color: #00af00; text-decoration-color: #00af00\">4</span>, <span style=\"color: #00af00; text-decoration-color: #00af00\">7</span>,   │        <span style=\"color: #00af00; text-decoration-color: #00af00\">256</span> │ b2_relu_2[<span style=\"color: #00af00; text-decoration-color: #00af00\">0</span>][<span style=\"color: #00af00; text-decoration-color: #00af00\">0</span>]   │\n",
       "│ (<span style=\"color: #0087ff; text-decoration-color: #0087ff\">BatchNormalizatio…</span> │ <span style=\"color: #00af00; text-decoration-color: #00af00\">64</span>)               │            │                   │\n",
       "├─────────────────────┼───────────────────┼────────────┼───────────────────┤\n",
       "│ b3_cnv3d_1 (<span style=\"color: #0087ff; text-decoration-color: #0087ff\">Conv3D</span>) │ (<span style=\"color: #00d7ff; text-decoration-color: #00d7ff\">None</span>, <span style=\"color: #00af00; text-decoration-color: #00af00\">1</span>, <span style=\"color: #00af00; text-decoration-color: #00af00\">4</span>, <span style=\"color: #00af00; text-decoration-color: #00af00\">7</span>,   │      <span style=\"color: #00af00; text-decoration-color: #00af00\">4,096</span> │ b2_bn_2[<span style=\"color: #00af00; text-decoration-color: #00af00\">0</span>][<span style=\"color: #00af00; text-decoration-color: #00af00\">0</span>]     │\n",
       "│                     │ <span style=\"color: #00af00; text-decoration-color: #00af00\">64</span>)               │            │                   │\n",
       "├─────────────────────┼───────────────────┼────────────┼───────────────────┤\n",
       "│ b3_relu_1 (<span style=\"color: #0087ff; text-decoration-color: #0087ff\">ReLU</span>)    │ (<span style=\"color: #00d7ff; text-decoration-color: #00d7ff\">None</span>, <span style=\"color: #00af00; text-decoration-color: #00af00\">1</span>, <span style=\"color: #00af00; text-decoration-color: #00af00\">4</span>, <span style=\"color: #00af00; text-decoration-color: #00af00\">7</span>,   │          <span style=\"color: #00af00; text-decoration-color: #00af00\">0</span> │ b3_cnv3d_1[<span style=\"color: #00af00; text-decoration-color: #00af00\">0</span>][<span style=\"color: #00af00; text-decoration-color: #00af00\">0</span>]  │\n",
       "│                     │ <span style=\"color: #00af00; text-decoration-color: #00af00\">64</span>)               │            │                   │\n",
       "├─────────────────────┼───────────────────┼────────────┼───────────────────┤\n",
       "│ b3_bn_1             │ (<span style=\"color: #00d7ff; text-decoration-color: #00d7ff\">None</span>, <span style=\"color: #00af00; text-decoration-color: #00af00\">1</span>, <span style=\"color: #00af00; text-decoration-color: #00af00\">4</span>, <span style=\"color: #00af00; text-decoration-color: #00af00\">7</span>,   │        <span style=\"color: #00af00; text-decoration-color: #00af00\">256</span> │ b3_relu_1[<span style=\"color: #00af00; text-decoration-color: #00af00\">0</span>][<span style=\"color: #00af00; text-decoration-color: #00af00\">0</span>]   │\n",
       "│ (<span style=\"color: #0087ff; text-decoration-color: #0087ff\">BatchNormalizatio…</span> │ <span style=\"color: #00af00; text-decoration-color: #00af00\">64</span>)               │            │                   │\n",
       "├─────────────────────┼───────────────────┼────────────┼───────────────────┤\n",
       "│ add_5 (<span style=\"color: #0087ff; text-decoration-color: #0087ff\">Add</span>)         │ (<span style=\"color: #00d7ff; text-decoration-color: #00d7ff\">None</span>, <span style=\"color: #00af00; text-decoration-color: #00af00\">1</span>, <span style=\"color: #00af00; text-decoration-color: #00af00\">4</span>, <span style=\"color: #00af00; text-decoration-color: #00af00\">7</span>,   │          <span style=\"color: #00af00; text-decoration-color: #00af00\">0</span> │ b2_bn_2[<span style=\"color: #00af00; text-decoration-color: #00af00\">0</span>][<span style=\"color: #00af00; text-decoration-color: #00af00\">0</span>],    │\n",
       "│                     │ <span style=\"color: #00af00; text-decoration-color: #00af00\">64</span>)               │            │ b3_bn_1[<span style=\"color: #00af00; text-decoration-color: #00af00\">0</span>][<span style=\"color: #00af00; text-decoration-color: #00af00\">0</span>]     │\n",
       "├─────────────────────┼───────────────────┼────────────┼───────────────────┤\n",
       "│ b3_cnv3d_2 (<span style=\"color: #0087ff; text-decoration-color: #0087ff\">Conv3D</span>) │ (<span style=\"color: #00d7ff; text-decoration-color: #00d7ff\">None</span>, <span style=\"color: #00af00; text-decoration-color: #00af00\">1</span>, <span style=\"color: #00af00; text-decoration-color: #00af00\">2</span>, <span style=\"color: #00af00; text-decoration-color: #00af00\">4</span>,   │    <span style=\"color: #00af00; text-decoration-color: #00af00\">221,184</span> │ add_5[<span style=\"color: #00af00; text-decoration-color: #00af00\">0</span>][<span style=\"color: #00af00; text-decoration-color: #00af00\">0</span>]       │\n",
       "│                     │ <span style=\"color: #00af00; text-decoration-color: #00af00\">128</span>)              │            │                   │\n",
       "├─────────────────────┼───────────────────┼────────────┼───────────────────┤\n",
       "│ b3_relu_2 (<span style=\"color: #0087ff; text-decoration-color: #0087ff\">ReLU</span>)    │ (<span style=\"color: #00d7ff; text-decoration-color: #00d7ff\">None</span>, <span style=\"color: #00af00; text-decoration-color: #00af00\">1</span>, <span style=\"color: #00af00; text-decoration-color: #00af00\">2</span>, <span style=\"color: #00af00; text-decoration-color: #00af00\">4</span>,   │          <span style=\"color: #00af00; text-decoration-color: #00af00\">0</span> │ b3_cnv3d_2[<span style=\"color: #00af00; text-decoration-color: #00af00\">0</span>][<span style=\"color: #00af00; text-decoration-color: #00af00\">0</span>]  │\n",
       "│                     │ <span style=\"color: #00af00; text-decoration-color: #00af00\">128</span>)              │            │                   │\n",
       "├─────────────────────┼───────────────────┼────────────┼───────────────────┤\n",
       "│ b3_out              │ (<span style=\"color: #00d7ff; text-decoration-color: #00d7ff\">None</span>, <span style=\"color: #00af00; text-decoration-color: #00af00\">1</span>, <span style=\"color: #00af00; text-decoration-color: #00af00\">2</span>, <span style=\"color: #00af00; text-decoration-color: #00af00\">4</span>,   │        <span style=\"color: #00af00; text-decoration-color: #00af00\">512</span> │ b3_relu_2[<span style=\"color: #00af00; text-decoration-color: #00af00\">0</span>][<span style=\"color: #00af00; text-decoration-color: #00af00\">0</span>]   │\n",
       "│ (<span style=\"color: #0087ff; text-decoration-color: #0087ff\">BatchNormalizatio…</span> │ <span style=\"color: #00af00; text-decoration-color: #00af00\">128</span>)              │            │                   │\n",
       "├─────────────────────┼───────────────────┼────────────┼───────────────────┤\n",
       "│ global_average_poo… │ (<span style=\"color: #00d7ff; text-decoration-color: #00d7ff\">None</span>, <span style=\"color: #00af00; text-decoration-color: #00af00\">128</span>)       │          <span style=\"color: #00af00; text-decoration-color: #00af00\">0</span> │ b3_out[<span style=\"color: #00af00; text-decoration-color: #00af00\">0</span>][<span style=\"color: #00af00; text-decoration-color: #00af00\">0</span>]      │\n",
       "│ (<span style=\"color: #0087ff; text-decoration-color: #0087ff\">GlobalAveragePool…</span> │                   │            │                   │\n",
       "├─────────────────────┼───────────────────┼────────────┼───────────────────┤\n",
       "│ model_output        │ (<span style=\"color: #00d7ff; text-decoration-color: #00d7ff\">None</span>, <span style=\"color: #00af00; text-decoration-color: #00af00\">6</span>)         │        <span style=\"color: #00af00; text-decoration-color: #00af00\">774</span> │ global_average_p… │\n",
       "│ (<span style=\"color: #0087ff; text-decoration-color: #0087ff\">Dense</span>)             │                   │            │                   │\n",
       "└─────────────────────┴───────────────────┴────────────┴───────────────────┘\n",
       "</pre>\n"
      ],
      "text/plain": [
       "┏━━━━━━━━━━━━━━━━━━━━━┳━━━━━━━━━━━━━━━━━━━┳━━━━━━━━━━━━┳━━━━━━━━━━━━━━━━━━━┓\n",
       "┃\u001B[1m \u001B[0m\u001B[1mLayer (type)       \u001B[0m\u001B[1m \u001B[0m┃\u001B[1m \u001B[0m\u001B[1mOutput Shape     \u001B[0m\u001B[1m \u001B[0m┃\u001B[1m \u001B[0m\u001B[1m   Param #\u001B[0m\u001B[1m \u001B[0m┃\u001B[1m \u001B[0m\u001B[1mConnected to     \u001B[0m\u001B[1m \u001B[0m┃\n",
       "┡━━━━━━━━━━━━━━━━━━━━━╇━━━━━━━━━━━━━━━━━━━╇━━━━━━━━━━━━╇━━━━━━━━━━━━━━━━━━━┩\n",
       "│ input_layer_2       │ (\u001B[38;5;45mNone\u001B[0m, \u001B[38;5;34m11\u001B[0m, \u001B[38;5;34m60\u001B[0m,    │          \u001B[38;5;34m0\u001B[0m │ -                 │\n",
       "│ (\u001B[38;5;33mInputLayer\u001B[0m)        │ \u001B[38;5;34m100\u001B[0m, \u001B[38;5;34m1\u001B[0m)           │            │                   │\n",
       "├─────────────────────┼───────────────────┼────────────┼───────────────────┤\n",
       "│ b0_conv3d_1         │ (\u001B[38;5;45mNone\u001B[0m, \u001B[38;5;34m11\u001B[0m, \u001B[38;5;34m60\u001B[0m,    │      \u001B[38;5;34m1,152\u001B[0m │ input_layer_2[\u001B[38;5;34m0\u001B[0m]… │\n",
       "│ (\u001B[38;5;33mConv3D\u001B[0m)            │ \u001B[38;5;34m100\u001B[0m, \u001B[38;5;34m64\u001B[0m)          │            │                   │\n",
       "├─────────────────────┼───────────────────┼────────────┼───────────────────┤\n",
       "│ b0_relu_1 (\u001B[38;5;33mReLU\u001B[0m)    │ (\u001B[38;5;45mNone\u001B[0m, \u001B[38;5;34m11\u001B[0m, \u001B[38;5;34m60\u001B[0m,    │          \u001B[38;5;34m0\u001B[0m │ b0_conv3d_1[\u001B[38;5;34m0\u001B[0m][\u001B[38;5;34m0\u001B[0m] │\n",
       "│                     │ \u001B[38;5;34m100\u001B[0m, \u001B[38;5;34m64\u001B[0m)          │            │                   │\n",
       "├─────────────────────┼───────────────────┼────────────┼───────────────────┤\n",
       "│ b0_bn_1             │ (\u001B[38;5;45mNone\u001B[0m, \u001B[38;5;34m11\u001B[0m, \u001B[38;5;34m60\u001B[0m,    │        \u001B[38;5;34m256\u001B[0m │ b0_relu_1[\u001B[38;5;34m0\u001B[0m][\u001B[38;5;34m0\u001B[0m]   │\n",
       "│ (\u001B[38;5;33mBatchNormalizatio…\u001B[0m │ \u001B[38;5;34m100\u001B[0m, \u001B[38;5;34m64\u001B[0m)          │            │                   │\n",
       "├─────────────────────┼───────────────────┼────────────┼───────────────────┤\n",
       "│ max_pooling3d_2     │ (\u001B[38;5;45mNone\u001B[0m, \u001B[38;5;34m5\u001B[0m, \u001B[38;5;34m30\u001B[0m, \u001B[38;5;34m50\u001B[0m, │          \u001B[38;5;34m0\u001B[0m │ b0_bn_1[\u001B[38;5;34m0\u001B[0m][\u001B[38;5;34m0\u001B[0m]     │\n",
       "│ (\u001B[38;5;33mMaxPooling3D\u001B[0m)      │ \u001B[38;5;34m64\u001B[0m)               │            │                   │\n",
       "├─────────────────────┼───────────────────┼────────────┼───────────────────┤\n",
       "│ b1_cnv3d_1 (\u001B[38;5;33mConv3D\u001B[0m) │ (\u001B[38;5;45mNone\u001B[0m, \u001B[38;5;34m3\u001B[0m, \u001B[38;5;34m15\u001B[0m, \u001B[38;5;34m25\u001B[0m, │     \u001B[38;5;34m27,648\u001B[0m │ max_pooling3d_2[\u001B[38;5;34m…\u001B[0m │\n",
       "│                     │ \u001B[38;5;34m16\u001B[0m)               │            │                   │\n",
       "├─────────────────────┼───────────────────┼────────────┼───────────────────┤\n",
       "│ b1_relu_1 (\u001B[38;5;33mReLU\u001B[0m)    │ (\u001B[38;5;45mNone\u001B[0m, \u001B[38;5;34m3\u001B[0m, \u001B[38;5;34m15\u001B[0m, \u001B[38;5;34m25\u001B[0m, │          \u001B[38;5;34m0\u001B[0m │ b1_cnv3d_1[\u001B[38;5;34m0\u001B[0m][\u001B[38;5;34m0\u001B[0m]  │\n",
       "│                     │ \u001B[38;5;34m16\u001B[0m)               │            │                   │\n",
       "├─────────────────────┼───────────────────┼────────────┼───────────────────┤\n",
       "│ b1_bn_1             │ (\u001B[38;5;45mNone\u001B[0m, \u001B[38;5;34m3\u001B[0m, \u001B[38;5;34m15\u001B[0m, \u001B[38;5;34m25\u001B[0m, │         \u001B[38;5;34m64\u001B[0m │ b1_relu_1[\u001B[38;5;34m0\u001B[0m][\u001B[38;5;34m0\u001B[0m]   │\n",
       "│ (\u001B[38;5;33mBatchNormalizatio…\u001B[0m │ \u001B[38;5;34m16\u001B[0m)               │            │                   │\n",
       "├─────────────────────┼───────────────────┼────────────┼───────────────────┤\n",
       "│ b1_cnv3d_2 (\u001B[38;5;33mConv3D\u001B[0m) │ (\u001B[38;5;45mNone\u001B[0m, \u001B[38;5;34m2\u001B[0m, \u001B[38;5;34m8\u001B[0m, \u001B[38;5;34m13\u001B[0m,  │        \u001B[38;5;34m512\u001B[0m │ b1_bn_1[\u001B[38;5;34m0\u001B[0m][\u001B[38;5;34m0\u001B[0m]     │\n",
       "│                     │ \u001B[38;5;34m32\u001B[0m)               │            │                   │\n",
       "├─────────────────────┼───────────────────┼────────────┼───────────────────┤\n",
       "│ b1_relu_2 (\u001B[38;5;33mReLU\u001B[0m)    │ (\u001B[38;5;45mNone\u001B[0m, \u001B[38;5;34m2\u001B[0m, \u001B[38;5;34m8\u001B[0m, \u001B[38;5;34m13\u001B[0m,  │          \u001B[38;5;34m0\u001B[0m │ b1_cnv3d_2[\u001B[38;5;34m0\u001B[0m][\u001B[38;5;34m0\u001B[0m]  │\n",
       "│                     │ \u001B[38;5;34m32\u001B[0m)               │            │                   │\n",
       "├─────────────────────┼───────────────────┼────────────┼───────────────────┤\n",
       "│ b1_out              │ (\u001B[38;5;45mNone\u001B[0m, \u001B[38;5;34m2\u001B[0m, \u001B[38;5;34m8\u001B[0m, \u001B[38;5;34m13\u001B[0m,  │        \u001B[38;5;34m128\u001B[0m │ b1_relu_2[\u001B[38;5;34m0\u001B[0m][\u001B[38;5;34m0\u001B[0m]   │\n",
       "│ (\u001B[38;5;33mBatchNormalizatio…\u001B[0m │ \u001B[38;5;34m32\u001B[0m)               │            │                   │\n",
       "├─────────────────────┼───────────────────┼────────────┼───────────────────┤\n",
       "│ b2_cnv3d_1 (\u001B[38;5;33mConv3D\u001B[0m) │ (\u001B[38;5;45mNone\u001B[0m, \u001B[38;5;34m2\u001B[0m, \u001B[38;5;34m8\u001B[0m, \u001B[38;5;34m13\u001B[0m,  │      \u001B[38;5;34m1,024\u001B[0m │ b1_out[\u001B[38;5;34m0\u001B[0m][\u001B[38;5;34m0\u001B[0m]      │\n",
       "│                     │ \u001B[38;5;34m32\u001B[0m)               │            │                   │\n",
       "├─────────────────────┼───────────────────┼────────────┼───────────────────┤\n",
       "│ b2_relu_1 (\u001B[38;5;33mReLU\u001B[0m)    │ (\u001B[38;5;45mNone\u001B[0m, \u001B[38;5;34m2\u001B[0m, \u001B[38;5;34m8\u001B[0m, \u001B[38;5;34m13\u001B[0m,  │          \u001B[38;5;34m0\u001B[0m │ b2_cnv3d_1[\u001B[38;5;34m0\u001B[0m][\u001B[38;5;34m0\u001B[0m]  │\n",
       "│                     │ \u001B[38;5;34m32\u001B[0m)               │            │                   │\n",
       "├─────────────────────┼───────────────────┼────────────┼───────────────────┤\n",
       "│ b2_bn_1             │ (\u001B[38;5;45mNone\u001B[0m, \u001B[38;5;34m2\u001B[0m, \u001B[38;5;34m8\u001B[0m, \u001B[38;5;34m13\u001B[0m,  │        \u001B[38;5;34m128\u001B[0m │ b2_relu_1[\u001B[38;5;34m0\u001B[0m][\u001B[38;5;34m0\u001B[0m]   │\n",
       "│ (\u001B[38;5;33mBatchNormalizatio…\u001B[0m │ \u001B[38;5;34m32\u001B[0m)               │            │                   │\n",
       "├─────────────────────┼───────────────────┼────────────┼───────────────────┤\n",
       "│ add_4 (\u001B[38;5;33mAdd\u001B[0m)         │ (\u001B[38;5;45mNone\u001B[0m, \u001B[38;5;34m2\u001B[0m, \u001B[38;5;34m8\u001B[0m, \u001B[38;5;34m13\u001B[0m,  │          \u001B[38;5;34m0\u001B[0m │ b1_out[\u001B[38;5;34m0\u001B[0m][\u001B[38;5;34m0\u001B[0m],     │\n",
       "│                     │ \u001B[38;5;34m32\u001B[0m)               │            │ b2_bn_1[\u001B[38;5;34m0\u001B[0m][\u001B[38;5;34m0\u001B[0m]     │\n",
       "├─────────────────────┼───────────────────┼────────────┼───────────────────┤\n",
       "│ b2_cnv3d_2 (\u001B[38;5;33mConv3D\u001B[0m) │ (\u001B[38;5;45mNone\u001B[0m, \u001B[38;5;34m1\u001B[0m, \u001B[38;5;34m4\u001B[0m, \u001B[38;5;34m7\u001B[0m,   │     \u001B[38;5;34m55,296\u001B[0m │ add_4[\u001B[38;5;34m0\u001B[0m][\u001B[38;5;34m0\u001B[0m]       │\n",
       "│                     │ \u001B[38;5;34m64\u001B[0m)               │            │                   │\n",
       "├─────────────────────┼───────────────────┼────────────┼───────────────────┤\n",
       "│ b2_relu_2 (\u001B[38;5;33mReLU\u001B[0m)    │ (\u001B[38;5;45mNone\u001B[0m, \u001B[38;5;34m1\u001B[0m, \u001B[38;5;34m4\u001B[0m, \u001B[38;5;34m7\u001B[0m,   │          \u001B[38;5;34m0\u001B[0m │ b2_cnv3d_2[\u001B[38;5;34m0\u001B[0m][\u001B[38;5;34m0\u001B[0m]  │\n",
       "│                     │ \u001B[38;5;34m64\u001B[0m)               │            │                   │\n",
       "├─────────────────────┼───────────────────┼────────────┼───────────────────┤\n",
       "│ b2_bn_2             │ (\u001B[38;5;45mNone\u001B[0m, \u001B[38;5;34m1\u001B[0m, \u001B[38;5;34m4\u001B[0m, \u001B[38;5;34m7\u001B[0m,   │        \u001B[38;5;34m256\u001B[0m │ b2_relu_2[\u001B[38;5;34m0\u001B[0m][\u001B[38;5;34m0\u001B[0m]   │\n",
       "│ (\u001B[38;5;33mBatchNormalizatio…\u001B[0m │ \u001B[38;5;34m64\u001B[0m)               │            │                   │\n",
       "├─────────────────────┼───────────────────┼────────────┼───────────────────┤\n",
       "│ b3_cnv3d_1 (\u001B[38;5;33mConv3D\u001B[0m) │ (\u001B[38;5;45mNone\u001B[0m, \u001B[38;5;34m1\u001B[0m, \u001B[38;5;34m4\u001B[0m, \u001B[38;5;34m7\u001B[0m,   │      \u001B[38;5;34m4,096\u001B[0m │ b2_bn_2[\u001B[38;5;34m0\u001B[0m][\u001B[38;5;34m0\u001B[0m]     │\n",
       "│                     │ \u001B[38;5;34m64\u001B[0m)               │            │                   │\n",
       "├─────────────────────┼───────────────────┼────────────┼───────────────────┤\n",
       "│ b3_relu_1 (\u001B[38;5;33mReLU\u001B[0m)    │ (\u001B[38;5;45mNone\u001B[0m, \u001B[38;5;34m1\u001B[0m, \u001B[38;5;34m4\u001B[0m, \u001B[38;5;34m7\u001B[0m,   │          \u001B[38;5;34m0\u001B[0m │ b3_cnv3d_1[\u001B[38;5;34m0\u001B[0m][\u001B[38;5;34m0\u001B[0m]  │\n",
       "│                     │ \u001B[38;5;34m64\u001B[0m)               │            │                   │\n",
       "├─────────────────────┼───────────────────┼────────────┼───────────────────┤\n",
       "│ b3_bn_1             │ (\u001B[38;5;45mNone\u001B[0m, \u001B[38;5;34m1\u001B[0m, \u001B[38;5;34m4\u001B[0m, \u001B[38;5;34m7\u001B[0m,   │        \u001B[38;5;34m256\u001B[0m │ b3_relu_1[\u001B[38;5;34m0\u001B[0m][\u001B[38;5;34m0\u001B[0m]   │\n",
       "│ (\u001B[38;5;33mBatchNormalizatio…\u001B[0m │ \u001B[38;5;34m64\u001B[0m)               │            │                   │\n",
       "├─────────────────────┼───────────────────┼────────────┼───────────────────┤\n",
       "│ add_5 (\u001B[38;5;33mAdd\u001B[0m)         │ (\u001B[38;5;45mNone\u001B[0m, \u001B[38;5;34m1\u001B[0m, \u001B[38;5;34m4\u001B[0m, \u001B[38;5;34m7\u001B[0m,   │          \u001B[38;5;34m0\u001B[0m │ b2_bn_2[\u001B[38;5;34m0\u001B[0m][\u001B[38;5;34m0\u001B[0m],    │\n",
       "│                     │ \u001B[38;5;34m64\u001B[0m)               │            │ b3_bn_1[\u001B[38;5;34m0\u001B[0m][\u001B[38;5;34m0\u001B[0m]     │\n",
       "├─────────────────────┼───────────────────┼────────────┼───────────────────┤\n",
       "│ b3_cnv3d_2 (\u001B[38;5;33mConv3D\u001B[0m) │ (\u001B[38;5;45mNone\u001B[0m, \u001B[38;5;34m1\u001B[0m, \u001B[38;5;34m2\u001B[0m, \u001B[38;5;34m4\u001B[0m,   │    \u001B[38;5;34m221,184\u001B[0m │ add_5[\u001B[38;5;34m0\u001B[0m][\u001B[38;5;34m0\u001B[0m]       │\n",
       "│                     │ \u001B[38;5;34m128\u001B[0m)              │            │                   │\n",
       "├─────────────────────┼───────────────────┼────────────┼───────────────────┤\n",
       "│ b3_relu_2 (\u001B[38;5;33mReLU\u001B[0m)    │ (\u001B[38;5;45mNone\u001B[0m, \u001B[38;5;34m1\u001B[0m, \u001B[38;5;34m2\u001B[0m, \u001B[38;5;34m4\u001B[0m,   │          \u001B[38;5;34m0\u001B[0m │ b3_cnv3d_2[\u001B[38;5;34m0\u001B[0m][\u001B[38;5;34m0\u001B[0m]  │\n",
       "│                     │ \u001B[38;5;34m128\u001B[0m)              │            │                   │\n",
       "├─────────────────────┼───────────────────┼────────────┼───────────────────┤\n",
       "│ b3_out              │ (\u001B[38;5;45mNone\u001B[0m, \u001B[38;5;34m1\u001B[0m, \u001B[38;5;34m2\u001B[0m, \u001B[38;5;34m4\u001B[0m,   │        \u001B[38;5;34m512\u001B[0m │ b3_relu_2[\u001B[38;5;34m0\u001B[0m][\u001B[38;5;34m0\u001B[0m]   │\n",
       "│ (\u001B[38;5;33mBatchNormalizatio…\u001B[0m │ \u001B[38;5;34m128\u001B[0m)              │            │                   │\n",
       "├─────────────────────┼───────────────────┼────────────┼───────────────────┤\n",
       "│ global_average_poo… │ (\u001B[38;5;45mNone\u001B[0m, \u001B[38;5;34m128\u001B[0m)       │          \u001B[38;5;34m0\u001B[0m │ b3_out[\u001B[38;5;34m0\u001B[0m][\u001B[38;5;34m0\u001B[0m]      │\n",
       "│ (\u001B[38;5;33mGlobalAveragePool…\u001B[0m │                   │            │                   │\n",
       "├─────────────────────┼───────────────────┼────────────┼───────────────────┤\n",
       "│ model_output        │ (\u001B[38;5;45mNone\u001B[0m, \u001B[38;5;34m6\u001B[0m)         │        \u001B[38;5;34m774\u001B[0m │ global_average_p… │\n",
       "│ (\u001B[38;5;33mDense\u001B[0m)             │                   │            │                   │\n",
       "└─────────────────────┴───────────────────┴────────────┴───────────────────┘\n"
      ]
     },
     "metadata": {},
     "output_type": "display_data"
    },
    {
     "data": {
      "text/html": [
       "<pre style=\"white-space:pre;overflow-x:auto;line-height:normal;font-family:Menlo,'DejaVu Sans Mono',consolas,'Courier New',monospace\"><span style=\"font-weight: bold\"> Total params: </span><span style=\"color: #00af00; text-decoration-color: #00af00\">313,286</span> (1.20 MB)\n",
       "</pre>\n"
      ],
      "text/plain": [
       "\u001B[1m Total params: \u001B[0m\u001B[38;5;34m313,286\u001B[0m (1.20 MB)\n"
      ]
     },
     "metadata": {},
     "output_type": "display_data"
    },
    {
     "data": {
      "text/html": [
       "<pre style=\"white-space:pre;overflow-x:auto;line-height:normal;font-family:Menlo,'DejaVu Sans Mono',consolas,'Courier New',monospace\"><span style=\"font-weight: bold\"> Trainable params: </span><span style=\"color: #00af00; text-decoration-color: #00af00\">312,486</span> (1.19 MB)\n",
       "</pre>\n"
      ],
      "text/plain": [
       "\u001B[1m Trainable params: \u001B[0m\u001B[38;5;34m312,486\u001B[0m (1.19 MB)\n"
      ]
     },
     "metadata": {},
     "output_type": "display_data"
    },
    {
     "data": {
      "text/html": [
       "<pre style=\"white-space:pre;overflow-x:auto;line-height:normal;font-family:Menlo,'DejaVu Sans Mono',consolas,'Courier New',monospace\"><span style=\"font-weight: bold\"> Non-trainable params: </span><span style=\"color: #00af00; text-decoration-color: #00af00\">800</span> (3.12 KB)\n",
       "</pre>\n"
      ],
      "text/plain": [
       "\u001B[1m Non-trainable params: \u001B[0m\u001B[38;5;34m800\u001B[0m (3.12 KB)\n"
      ]
     },
     "metadata": {},
     "output_type": "display_data"
    }
   ],
   "source": [
    "model.summary()"
   ]
  },
  {
   "cell_type": "code",
   "execution_count": 22,
   "id": "55db2c6bb648a74b",
   "metadata": {
    "ExecuteTime": {
     "end_time": "2024-04-15T00:13:09.850244Z",
     "start_time": "2024-04-15T00:13:09.847167Z"
    },
    "collapsed": false
   },
   "outputs": [],
   "source": [
    "es=tf.keras.callbacks.EarlyStopping(monitor='val_accuracy', verbose=1, patience=10, restore_best_weights=True, min_delta=0.001)"
   ]
  },
  {
   "cell_type": "code",
   "execution_count": 24,
   "id": "4e7352f50f51cd8",
   "metadata": {
    "ExecuteTime": {
     "end_time": "2024-04-15T01:30:49.629865Z",
     "start_time": "2024-04-15T00:13:09.852160Z"
    },
    "collapsed": false
   },
   "outputs": [
    {
     "name": "stdout",
     "output_type": "stream",
     "text": [
      "Epoch 1/30\n",
      "\u001B[1m149/149\u001B[0m \u001B[32m━━━━━━━━━━━━━━━━━━━━\u001B[0m\u001B[37m\u001B[0m \u001B[1m648s\u001B[0m 4s/step - accuracy: 0.3641 - loss: 1.5984 - val_accuracy: 0.4523 - val_loss: 1.3474\n",
      "Epoch 2/30\n",
      "\u001B[1m149/149\u001B[0m \u001B[32m━━━━━━━━━━━━━━━━━━━━\u001B[0m\u001B[37m\u001B[0m \u001B[1m600s\u001B[0m 4s/step - accuracy: 0.5891 - loss: 1.1200 - val_accuracy: 0.5394 - val_loss: 1.2146\n",
      "Epoch 3/30\n",
      "\u001B[1m149/149\u001B[0m \u001B[32m━━━━━━━━━━━━━━━━━━━━\u001B[0m\u001B[37m\u001B[0m \u001B[1m604s\u001B[0m 4s/step - accuracy: 0.6349 - loss: 0.9655 - val_accuracy: 0.5519 - val_loss: 1.2040\n",
      "Epoch 4/30\n",
      "\u001B[1m149/149\u001B[0m \u001B[32m━━━━━━━━━━━━━━━━━━━━\u001B[0m\u001B[37m\u001B[0m \u001B[1m644s\u001B[0m 4s/step - accuracy: 0.7180 - loss: 0.7779 - val_accuracy: 0.5394 - val_loss: 1.2159\n",
      "Epoch 5/30\n",
      "\u001B[1m149/149\u001B[0m \u001B[32m━━━━━━━━━━━━━━━━━━━━\u001B[0m\u001B[37m\u001B[0m \u001B[1m650s\u001B[0m 4s/step - accuracy: 0.7467 - loss: 0.6801 - val_accuracy: 0.5145 - val_loss: 1.2363\n",
      "Epoch 6/30\n",
      "\u001B[1m149/149\u001B[0m \u001B[32m━━━━━━━━━━━━━━━━━━━━\u001B[0m\u001B[37m\u001B[0m \u001B[1m638s\u001B[0m 4s/step - accuracy: 0.8029 - loss: 0.5536 - val_accuracy: 0.5643 - val_loss: 1.2788\n",
      "Epoch 7/30\n",
      "\u001B[1m149/149\u001B[0m \u001B[32m━━━━━━━━━━━━━━━━━━━━\u001B[0m\u001B[37m\u001B[0m \u001B[1m688s\u001B[0m 5s/step - accuracy: 0.8565 - loss: 0.4254 - val_accuracy: 0.5519 - val_loss: 1.3351\n",
      "Epoch 8/30\n",
      "\u001B[1m149/149\u001B[0m \u001B[32m━━━━━━━━━━━━━━━━━━━━\u001B[0m\u001B[37m\u001B[0m \u001B[1m595s\u001B[0m 4s/step - accuracy: 0.8930 - loss: 0.3477 - val_accuracy: 0.5228 - val_loss: 1.4488\n",
      "Epoch 9/30\n",
      "\u001B[1m149/149\u001B[0m \u001B[32m━━━━━━━━━━━━━━━━━━━━\u001B[0m\u001B[37m\u001B[0m \u001B[1m626s\u001B[0m 4s/step - accuracy: 0.9060 - loss: 0.2845 - val_accuracy: 0.5228 - val_loss: 1.5502\n",
      "Epoch 10/30\n",
      "\u001B[1m149/149\u001B[0m \u001B[32m━━━━━━━━━━━━━━━━━━━━\u001B[0m\u001B[37m\u001B[0m \u001B[1m632s\u001B[0m 4s/step - accuracy: 0.9288 - loss: 0.2317 - val_accuracy: 0.5643 - val_loss: 1.5292\n",
      "Epoch 11/30\n",
      "\u001B[1m149/149\u001B[0m \u001B[32m━━━━━━━━━━━━━━━━━━━━\u001B[0m\u001B[37m\u001B[0m \u001B[1m604s\u001B[0m 4s/step - accuracy: 0.9420 - loss: 0.1924 - val_accuracy: 0.5311 - val_loss: 1.6638\n",
      "Epoch 12/30\n",
      "\u001B[1m149/149\u001B[0m \u001B[32m━━━━━━━━━━━━━━━━━━━━\u001B[0m\u001B[37m\u001B[0m \u001B[1m602s\u001B[0m 4s/step - accuracy: 0.9585 - loss: 0.1529 - val_accuracy: 0.5602 - val_loss: 1.7396\n",
      "Epoch 13/30\n",
      "\u001B[1m149/149\u001B[0m \u001B[32m━━━━━━━━━━━━━━━━━━━━\u001B[0m\u001B[37m\u001B[0m \u001B[1m596s\u001B[0m 4s/step - accuracy: 0.9610 - loss: 0.1322 - val_accuracy: 0.5270 - val_loss: 1.7084\n",
      "Epoch 14/30\n",
      "\u001B[1m149/149\u001B[0m \u001B[32m━━━━━━━━━━━━━━━━━━━━\u001B[0m\u001B[37m\u001B[0m \u001B[1m601s\u001B[0m 4s/step - accuracy: 0.9757 - loss: 0.0983 - val_accuracy: 0.5353 - val_loss: 1.8230\n",
      "Epoch 15/30\n",
      "\u001B[1m149/149\u001B[0m \u001B[32m━━━━━━━━━━━━━━━━━━━━\u001B[0m\u001B[37m\u001B[0m \u001B[1m600s\u001B[0m 4s/step - accuracy: 0.9793 - loss: 0.0777 - val_accuracy: 0.5228 - val_loss: 1.8984\n",
      "Epoch 16/30\n",
      "\u001B[1m149/149\u001B[0m \u001B[32m━━━━━━━━━━━━━━━━━━━━\u001B[0m\u001B[37m\u001B[0m \u001B[1m620s\u001B[0m 4s/step - accuracy: 0.9774 - loss: 0.0869 - val_accuracy: 0.5270 - val_loss: 1.9377\n",
      "Epoch 16: early stopping\n",
      "Restoring model weights from the end of the best epoch: 6.\n"
     ]
    },
    {
     "data": {
      "text/plain": [
       "<keras.src.callbacks.history.History at 0x2ce336510>"
      ]
     },
     "execution_count": 24,
     "metadata": {},
     "output_type": "execute_result"
    }
   ],
   "source": [
    "model.fit(X_train, Y_train, batch_size=32, epochs=30, verbose=1, validation_data=(X_valid, Y_valid,), callbacks=[es])"
   ]
  },
  {
   "cell_type": "code",
   "execution_count": 26,
   "id": "80b425a584f01b83",
   "metadata": {
    "ExecuteTime": {
     "end_time": "2024-04-15T01:30:52.238498Z",
     "start_time": "2024-04-15T01:30:49.639227Z"
    },
    "collapsed": false
   },
   "outputs": [
    {
     "name": "stdout",
     "output_type": "stream",
     "text": [
      "\u001B[1m8/8\u001B[0m \u001B[32m━━━━━━━━━━━━━━━━━━━━\u001B[0m\u001B[37m\u001B[0m \u001B[1m2s\u001B[0m 252ms/step\n",
      "              precision    recall  f1-score   support\n",
      "\n",
      "           0       0.65      0.56      0.60        50\n",
      "           1       0.57      0.64      0.61        36\n",
      "           2       0.52      0.46      0.49        50\n",
      "           3       0.66      0.68      0.67        28\n",
      "           4       0.70      0.70      0.70        50\n",
      "           5       0.46      0.58      0.51        31\n",
      "\n",
      "    accuracy                           0.60       245\n",
      "   macro avg       0.59      0.60      0.60       245\n",
      "weighted avg       0.60      0.60      0.60       245\n"
     ]
    }
   ],
   "source": [
    "from sklearn.metrics import classification_report\n",
    "\n",
    "preds = model.predict(X_test)\n",
    "\n",
    "print(classification_report(np.argmax(Y_test,1),np.argmax(preds,1)))"
   ]
  },
  {
   "cell_type": "code",
   "execution_count": 28,
   "id": "e829ca8801f5dad5",
   "metadata": {
    "ExecuteTime": {
     "end_time": "2024-04-15T01:31:38.458732Z",
     "start_time": "2024-04-15T01:31:38.378607Z"
    },
    "collapsed": false
   },
   "outputs": [],
   "source": [
    "model.save('model.complex.keras')"
   ]
  },
  {
   "cell_type": "code",
   "execution_count": null,
   "id": "2cc834d3c76ad1c2",
   "metadata": {
    "ExecuteTime": {
     "end_time": "2024-04-15T01:31:44.616313Z",
     "start_time": "2024-04-15T01:31:44.613917Z"
    },
    "collapsed": false
   },
   "outputs": [],
   "source": [
    "model= tf.keras.models.load_model('model.complex.keras')"
   ]
  }
 ],
 "metadata": {
  "kernelspec": {
   "display_name": "Python 3 (ipykernel)",
   "language": "python",
   "name": "python3"
  },
  "language_info": {
   "codemirror_mode": {
    "name": "ipython",
    "version": 3
   },
   "file_extension": ".py",
   "mimetype": "text/x-python",
   "name": "python",
   "nbconvert_exporter": "python",
   "pygments_lexer": "ipython3",
   "version": "3.12.0"
  }
 },
 "nbformat": 4,
 "nbformat_minor": 5
}
