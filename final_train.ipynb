{
  "cells": [
    {
      "cell_type": "markdown",
      "metadata": {
        "id": "view-in-github",
        "colab_type": "text"
      },
      "source": [
        "<a href=\"https://colab.research.google.com/github/kocsis-david/LipReadingModel/blob/master/final_train.ipynb\" target=\"_parent\"><img src=\"https://colab.research.google.com/assets/colab-badge.svg\" alt=\"Open In Colab\"/></a>"
      ]
    },
    {
      "cell_type": "markdown",
      "metadata": {
        "id": "6e00313a9b6788cf"
      },
      "source": [
        "<a href=\"https://colab.research.google.com/github/kocsis-david/LipReadingModel/blob/master/modeltrain.ipynb\" target=\"_parent\"><img src=\"https://colab.research.google.com/assets/colab-badge.svg\" alt=\"Open In Colab\"/></a>"
      ],
      "id": "6e00313a9b6788cf"
    },
    {
      "cell_type": "code",
      "execution_count": null,
      "metadata": {
        "ExecuteTime": {
          "end_time": "2024-05-14T13:46:22.519637Z",
          "start_time": "2024-05-14T13:46:22.254179Z"
        },
        "id": "115f0418b2d9fcaf",
        "outputId": "99b0d972-1b8d-4f72-96f3-dd58084736d2"
      },
      "outputs": [
        {
          "name": "stdout",
          "output_type": "stream",
          "text": [
            "Collecting pandas\n",
            "  Downloading pandas-1.1.5-cp36-cp36m-manylinux1_x86_64.whl (9.5 MB)\n",
            "\u001b[K     |████████████████████████████████| 9.5 MB 32.0 MB/s eta 0:00:01\n",
            "\u001b[?25hRequirement already satisfied: python-dateutil>=2.7.3 in /usr/local/lib/python3.6/dist-packages (from pandas) (2.8.1)\n",
            "Requirement already satisfied: numpy>=1.15.4 in /usr/local/lib/python3.6/dist-packages (from pandas) (1.17.3)\n",
            "Collecting pytz>=2017.2\n",
            "  Downloading pytz-2024.1-py2.py3-none-any.whl (505 kB)\n",
            "\u001b[K     |████████████████████████████████| 505 kB 90.5 MB/s eta 0:00:01\n",
            "\u001b[?25hRequirement already satisfied: six>=1.5 in /usr/local/lib/python3.6/dist-packages (from python-dateutil>=2.7.3->pandas) (1.14.0)\n",
            "Installing collected packages: pytz, pandas\n",
            "Successfully installed pandas-1.1.5 pytz-2024.1\n",
            "\u001b[33mWARNING: You are using pip version 20.0.2; however, version 21.3.1 is available.\n",
            "You should consider upgrading via the '/usr/bin/python -m pip install --upgrade pip' command.\u001b[0m\n",
            "Collecting scikit-learn\n",
            "  Downloading scikit_learn-0.24.2-cp36-cp36m-manylinux2010_x86_64.whl (22.2 MB)\n",
            "\u001b[K     |████████████████████████████████| 22.2 MB 28.1 MB/s eta 0:00:01\n",
            "\u001b[?25hCollecting joblib>=0.11\n",
            "  Downloading joblib-1.1.1-py2.py3-none-any.whl (309 kB)\n",
            "\u001b[K     |████████████████████████████████| 309 kB 104.9 MB/s eta 0:00:01\n",
            "\u001b[?25hCollecting threadpoolctl>=2.0.0\n",
            "  Downloading threadpoolctl-3.1.0-py3-none-any.whl (14 kB)\n",
            "Requirement already satisfied: scipy>=0.19.1 in /usr/local/lib/python3.6/dist-packages (from scikit-learn) (1.4.1)\n",
            "Requirement already satisfied: numpy>=1.13.3 in /usr/local/lib/python3.6/dist-packages (from scikit-learn) (1.17.3)\n",
            "Installing collected packages: joblib, threadpoolctl, scikit-learn\n",
            "Successfully installed joblib-1.1.1 scikit-learn-0.24.2 threadpoolctl-3.1.0\n",
            "\u001b[33mWARNING: You are using pip version 20.0.2; however, version 21.3.1 is available.\n",
            "You should consider upgrading via the '/usr/bin/python -m pip install --upgrade pip' command.\u001b[0m\n",
            "Collecting seaborn\n",
            "  Downloading seaborn-0.11.2-py3-none-any.whl (292 kB)\n",
            "\u001b[K     |████████████████████████████████| 292 kB 30.3 MB/s eta 0:00:01\n",
            "\u001b[?25hRequirement already satisfied: matplotlib>=2.2 in /usr/local/lib/python3.6/dist-packages (from seaborn) (3.2.1)\n",
            "Requirement already satisfied: numpy>=1.15 in /usr/local/lib/python3.6/dist-packages (from seaborn) (1.17.3)\n",
            "Requirement already satisfied: pandas>=0.23 in /usr/local/lib/python3.6/dist-packages (from seaborn) (1.1.5)\n",
            "Requirement already satisfied: scipy>=1.0 in /usr/local/lib/python3.6/dist-packages (from seaborn) (1.4.1)\n",
            "Requirement already satisfied: kiwisolver>=1.0.1 in /usr/local/lib/python3.6/dist-packages (from matplotlib>=2.2->seaborn) (1.2.0)\n",
            "Requirement already satisfied: pyparsing!=2.0.4,!=2.1.2,!=2.1.6,>=2.0.1 in /usr/local/lib/python3.6/dist-packages (from matplotlib>=2.2->seaborn) (2.4.7)\n",
            "Requirement already satisfied: python-dateutil>=2.1 in /usr/local/lib/python3.6/dist-packages (from matplotlib>=2.2->seaborn) (2.8.1)\n",
            "Requirement already satisfied: cycler>=0.10 in /usr/local/lib/python3.6/dist-packages (from matplotlib>=2.2->seaborn) (0.10.0)\n",
            "Requirement already satisfied: pytz>=2017.2 in /usr/local/lib/python3.6/dist-packages (from pandas>=0.23->seaborn) (2024.1)\n",
            "Requirement already satisfied: six>=1.5 in /usr/local/lib/python3.6/dist-packages (from python-dateutil>=2.1->matplotlib>=2.2->seaborn) (1.14.0)\n",
            "Installing collected packages: seaborn\n",
            "Successfully installed seaborn-0.11.2\n",
            "\u001b[33mWARNING: You are using pip version 20.0.2; however, version 21.3.1 is available.\n",
            "You should consider upgrading via the '/usr/bin/python -m pip install --upgrade pip' command.\u001b[0m\n"
          ]
        }
      ],
      "source": [
        "!pip install pandas\n",
        "!pip install scikit-learn\n",
        "!pip install seaborn"
      ],
      "id": "115f0418b2d9fcaf"
    },
    {
      "cell_type": "code",
      "execution_count": null,
      "metadata": {
        "id": "24f9f3dfe4e21d53"
      },
      "outputs": [],
      "source": [
        "import csv\n",
        "import pandas as pd\n",
        "from sklearn.preprocessing import OneHotEncoder\n",
        "def pd_save_data(lips, Y, data_type):\n",
        "    with open(f'{data_type}_lips.csv', mode='w', newline='') as file:\n",
        "        writer = csv.writer(file)\n",
        "        header = ['label']\n",
        "        for i in range(lips[0].shape[0]): #frames\n",
        "            for j in range(lips[0].shape[1]): #height\n",
        "                for k in range(lips[0].shape[2]): #width\n",
        "                    header.append(f'pixel_{i}_{j}_{k}')\n",
        "        writer.writerow(header)\n",
        "        for i in range(len(lips)):\n",
        "            row = [Y[i].argmax()]\n",
        "            current_lips = lips[i].flatten()\n",
        "            for j in range(len(current_lips)):\n",
        "                row.append(current_lips[j])\n",
        "            writer.writerow(row)\n",
        "\n",
        "\n",
        "def pd_load_data():\n",
        "    X_train = pd.read_csv('train_lips.csv')\n",
        "    Y_train = X_train['label']\n",
        "    del X_train['label']\n",
        "    X_valid = pd.read_csv('valid_lips.csv')\n",
        "    Y_valid = X_valid['label']\n",
        "    del X_valid['label']\n",
        "\n",
        "    X_test = pd.read_csv('test_lips.csv')\n",
        "    Y_test = X_test['label']\n",
        "    del X_test['label']\n",
        "    return X_train, Y_train, X_valid, Y_valid, X_test, Y_test"
      ],
      "id": "24f9f3dfe4e21d53"
    },
    {
      "cell_type": "code",
      "execution_count": null,
      "metadata": {
        "ExecuteTime": {
          "end_time": "2024-05-14T13:47:06.586913Z",
          "start_time": "2024-05-14T13:47:06.009894Z"
        },
        "id": "a249473733ad747b"
      },
      "outputs": [],
      "source": [
        "# loading the data from the saved csv files\n",
        "X_train, Y_train, X_valid, Y_valid, X_test, Y_test = pd_load_data()"
      ],
      "id": "a249473733ad747b"
    },
    {
      "cell_type": "code",
      "execution_count": null,
      "metadata": {
        "id": "5c7097553a8c12b5"
      },
      "outputs": [],
      "source": [
        "import numpy as np\n",
        "x_train = np.array(X_train, dtype='float32').reshape(-1, 11, 60, 100, 1)\n",
        "x_valid = np.array(X_valid, dtype='float32').reshape(-1, 11, 60, 100, 1)\n",
        "x_test = np.array(X_test, dtype='float32').reshape(-1, 11, 60, 100, 1)\n",
        "\n",
        "onehot_encoder = OneHotEncoder()\n",
        "\n",
        "Y_train_reshaped = np.array(Y_train).reshape(-1, 1)\n",
        "Y_valid_reshaped = np.array(Y_valid).reshape(-1, 1)\n",
        "Y_test_reshaped = np.array(Y_test).reshape(-1, 1)\n",
        "\n",
        "Y_train_onehot = onehot_encoder.fit_transform(Y_train_reshaped)\n",
        "Y_valid_onehot = onehot_encoder.fit_transform(Y_valid_reshaped)\n",
        "Y_test_onehot = onehot_encoder.fit_transform(Y_test_reshaped)\n",
        "\n",
        "# Convert one-hot encoded arrays to dense arrays\n",
        "Y_train = Y_train_onehot.toarray()\n",
        "Y_valid = Y_valid_onehot.toarray()\n",
        "Y_test = Y_test_onehot.toarray()"
      ],
      "id": "5c7097553a8c12b5"
    },
    {
      "cell_type": "code",
      "execution_count": null,
      "metadata": {
        "ExecuteTime": {
          "end_time": "2024-05-11T19:01:24.443651Z",
          "start_time": "2024-05-11T19:01:07.143086Z"
        },
        "id": "3a313ff95e2a06a2"
      },
      "outputs": [],
      "source": [
        "#Standardizing the data\n",
        "mean=x_train.mean(axis=0)\n",
        "std=x_train.std(axis=0)\n",
        "\n",
        "X_train=np.array((x_train-mean)/std)\n",
        "x_train=None\n",
        "X_valid=np.array((x_valid-mean)/std)\n",
        "x_valid=None\n",
        "X_test=np.array((x_test-mean)/std)\n",
        "x_test=None\n",
        "\n",
        "print(X_train.shape)\n"
      ],
      "id": "3a313ff95e2a06a2"
    },
    {
      "cell_type": "markdown",
      "metadata": {
        "id": "7a0aec2fe36b26f7"
      },
      "source": [],
      "id": "7a0aec2fe36b26f7"
    },
    {
      "metadata": {
        "id": "7602bf6a5ac2b5b8"
      },
      "cell_type": "markdown",
      "source": [
        "Dilated ConvNet model"
      ],
      "id": "7602bf6a5ac2b5b8"
    },
    {
      "cell_type": "code",
      "execution_count": null,
      "metadata": {
        "id": "b2862d0af09d21d3",
        "is_executing": true,
        "outputId": "12f9a88a-3f82-4ee2-ba15-2f9802e1210f"
      },
      "outputs": [
        {
          "name": "stdout",
          "output_type": "stream",
          "text": [
            "Model: \"model_8\"\n",
            "__________________________________________________________________________________________________\n",
            "Layer (type)                    Output Shape         Param #     Connected to                     \n",
            "==================================================================================================\n",
            "input_18 (InputLayer)           [(None, 11, 60, 100, 0                                            \n",
            "__________________________________________________________________________________________________\n",
            "b0_conv3d_1 (Conv3D)            (None, 11, 60, 100,  1152        input_18[0][0]                   \n",
            "__________________________________________________________________________________________________\n",
            "b0_relu_1 (ReLU)                (None, 11, 60, 100,  0           b0_conv3d_1[0][0]                \n",
            "__________________________________________________________________________________________________\n",
            "b0_bn_1 (BatchNormalization)    (None, 11, 60, 100,  256         b0_relu_1[0][0]                  \n",
            "__________________________________________________________________________________________________\n",
            "max_pooling3d_6 (MaxPooling3D)  (None, 5, 30, 50, 64 0           b0_bn_1[0][0]                    \n",
            "__________________________________________________________________________________________________\n",
            "b1_cnv3d_1 (Conv3D)             (None, 5, 15, 17, 16 27648       max_pooling3d_6[0][0]            \n",
            "__________________________________________________________________________________________________\n",
            "b1_relu_1 (ReLU)                (None, 5, 15, 17, 16 0           b1_cnv3d_1[0][0]                 \n",
            "__________________________________________________________________________________________________\n",
            "b1_bn_1 (BatchNormalization)    (None, 5, 15, 17, 16 64          b1_relu_1[0][0]                  \n",
            "__________________________________________________________________________________________________\n",
            "b1_cnv3d_2 (Conv3D)             (None, 5, 15, 17, 32 512         b1_bn_1[0][0]                    \n",
            "__________________________________________________________________________________________________\n",
            "b1_relu_2 (ReLU)                (None, 5, 15, 17, 32 0           b1_cnv3d_2[0][0]                 \n",
            "__________________________________________________________________________________________________\n",
            "b1_out (BatchNormalization)     (None, 5, 15, 17, 32 128         b1_relu_2[0][0]                  \n",
            "__________________________________________________________________________________________________\n",
            "b2_cnv3d_1 (Conv3D)             (None, 5, 15, 17, 32 1024        b1_out[0][0]                     \n",
            "__________________________________________________________________________________________________\n",
            "b2_relu_1 (ReLU)                (None, 5, 15, 17, 32 0           b2_cnv3d_1[0][0]                 \n",
            "__________________________________________________________________________________________________\n",
            "b2_bn_1 (BatchNormalization)    (None, 5, 15, 17, 32 128         b2_relu_1[0][0]                  \n",
            "__________________________________________________________________________________________________\n",
            "add_52 (Add)                    (None, 5, 15, 17, 32 0           b1_out[0][0]                     \n",
            "                                                                 b2_bn_1[0][0]                    \n",
            "__________________________________________________________________________________________________\n",
            "b2_cnv3d_2 (Conv3D)             (None, 5, 8, 6, 64)  55296       add_52[0][0]                     \n",
            "__________________________________________________________________________________________________\n",
            "b2_relu_2 (ReLU)                (None, 5, 8, 6, 64)  0           b2_cnv3d_2[0][0]                 \n",
            "__________________________________________________________________________________________________\n",
            "b2_bn_2 (BatchNormalization)    (None, 5, 8, 6, 64)  256         b2_relu_2[0][0]                  \n",
            "__________________________________________________________________________________________________\n",
            "b3_cnv3d_1 (Conv3D)             (None, 5, 8, 6, 64)  4096        b2_bn_2[0][0]                    \n",
            "__________________________________________________________________________________________________\n",
            "b3_relu_1 (ReLU)                (None, 5, 8, 6, 64)  0           b3_cnv3d_1[0][0]                 \n",
            "__________________________________________________________________________________________________\n",
            "b3_bn_1 (BatchNormalization)    (None, 5, 8, 6, 64)  256         b3_relu_1[0][0]                  \n",
            "__________________________________________________________________________________________________\n",
            "add_53 (Add)                    (None, 5, 8, 6, 64)  0           b2_bn_2[0][0]                    \n",
            "                                                                 b3_bn_1[0][0]                    \n",
            "__________________________________________________________________________________________________\n",
            "b3_cnv3d_2 (Conv3D)             (None, 5, 4, 3, 128) 221184      add_53[0][0]                     \n",
            "__________________________________________________________________________________________________\n",
            "b3_relu_2 (ReLU)                (None, 5, 4, 3, 128) 0           b3_cnv3d_2[0][0]                 \n",
            "__________________________________________________________________________________________________\n",
            "b3_out (BatchNormalization)     (None, 5, 4, 3, 128) 512         b3_relu_2[0][0]                  \n",
            "__________________________________________________________________________________________________\n",
            "conv3d_30 (Conv3D)              (None, 5, 4, 3, 32)  32800       b3_out[0][0]                     \n",
            "__________________________________________________________________________________________________\n",
            "activation_23 (Activation)      (None, 5, 4, 3, 32)  0           conv3d_30[0][0]                  \n",
            "__________________________________________________________________________________________________\n",
            "activation_24 (Activation)      (None, 5, 4, 3, 32)  0           conv3d_30[0][0]                  \n",
            "__________________________________________________________________________________________________\n",
            "multiply_10 (Multiply)          (None, 5, 4, 3, 32)  0           activation_23[0][0]              \n",
            "                                                                 activation_24[0][0]              \n",
            "__________________________________________________________________________________________________\n",
            "spatial_dropout3d_10 (SpatialDr (None, 5, 4, 3, 32)  0           multiply_10[0][0]                \n",
            "__________________________________________________________________________________________________\n",
            "conv3d_32 (Conv3D)              (None, 5, 4, 3, 32)  4128        b3_out[0][0]                     \n",
            "__________________________________________________________________________________________________\n",
            "conv3d_31 (Conv3D)              (None, 5, 4, 3, 32)  1056        spatial_dropout3d_10[0][0]       \n",
            "__________________________________________________________________________________________________\n",
            "add_54 (Add)                    (None, 5, 4, 3, 32)  0           conv3d_32[0][0]                  \n",
            "                                                                 conv3d_31[0][0]                  \n",
            "__________________________________________________________________________________________________\n",
            "conv3d_33 (Conv3D)              (None, 5, 4, 3, 64)  55360       add_54[0][0]                     \n",
            "__________________________________________________________________________________________________\n",
            "activation_25 (Activation)      (None, 5, 4, 3, 64)  0           conv3d_33[0][0]                  \n",
            "__________________________________________________________________________________________________\n",
            "activation_26 (Activation)      (None, 5, 4, 3, 64)  0           conv3d_33[0][0]                  \n",
            "__________________________________________________________________________________________________\n",
            "multiply_11 (Multiply)          (None, 5, 4, 3, 64)  0           activation_25[0][0]              \n",
            "                                                                 activation_26[0][0]              \n",
            "__________________________________________________________________________________________________\n",
            "spatial_dropout3d_11 (SpatialDr (None, 5, 4, 3, 64)  0           multiply_11[0][0]                \n",
            "__________________________________________________________________________________________________\n",
            "conv3d_35 (Conv3D)              (None, 5, 4, 3, 32)  1056        add_54[0][0]                     \n",
            "__________________________________________________________________________________________________\n",
            "conv3d_34 (Conv3D)              (None, 5, 4, 3, 32)  2080        spatial_dropout3d_11[0][0]       \n",
            "__________________________________________________________________________________________________\n",
            "add_55 (Add)                    (None, 5, 4, 3, 32)  0           conv3d_35[0][0]                  \n",
            "                                                                 conv3d_34[0][0]                  \n",
            "__________________________________________________________________________________________________\n",
            "conv3d_36 (Conv3D)              (None, 5, 4, 3, 128) 512128      add_55[0][0]                     \n",
            "__________________________________________________________________________________________________\n",
            "activation_27 (Activation)      (None, 5, 4, 3, 128) 0           conv3d_36[0][0]                  \n",
            "__________________________________________________________________________________________________\n",
            "activation_28 (Activation)      (None, 5, 4, 3, 128) 0           conv3d_36[0][0]                  \n",
            "__________________________________________________________________________________________________\n",
            "multiply_12 (Multiply)          (None, 5, 4, 3, 128) 0           activation_27[0][0]              \n",
            "                                                                 activation_28[0][0]              \n",
            "__________________________________________________________________________________________________\n",
            "spatial_dropout3d_12 (SpatialDr (None, 5, 4, 3, 128) 0           multiply_12[0][0]                \n",
            "__________________________________________________________________________________________________\n",
            "conv3d_38 (Conv3D)              (None, 5, 4, 3, 32)  1056        add_55[0][0]                     \n",
            "__________________________________________________________________________________________________\n",
            "conv3d_37 (Conv3D)              (None, 5, 4, 3, 32)  4128        spatial_dropout3d_12[0][0]       \n",
            "__________________________________________________________________________________________________\n",
            "add_56 (Add)                    (None, 5, 4, 3, 32)  0           conv3d_38[0][0]                  \n",
            "                                                                 conv3d_37[0][0]                  \n",
            "__________________________________________________________________________________________________\n",
            "activation_29 (Activation)      (None, 5, 4, 3, 32)  0           add_56[0][0]                     \n",
            "__________________________________________________________________________________________________\n",
            "flatten_4 (Flatten)             (None, 1920)         0           activation_29[0][0]              \n",
            "__________________________________________________________________________________________________\n",
            "dense_13 (Dense)                (None, 128)          245888      flatten_4[0][0]                  \n",
            "__________________________________________________________________________________________________\n",
            "model_output (Dense)            (None, 6)            774         dense_13[0][0]                   \n",
            "==================================================================================================\n",
            "Total params: 1,172,966\n",
            "Trainable params: 1,172,166\n",
            "Non-trainable params: 800\n",
            "__________________________________________________________________________________________________\n"
          ]
        }
      ],
      "source": [
        "import tensorflow as tf\n",
        "from tensorflow.keras.layers import Conv2D, Conv3D, MaxPooling3D, Flatten, Dense, Dropout, BatchNormalization, Input, \\\n",
        "    ReLU, GlobalAveragePooling3D, add\n",
        "from tensorflow.keras.models import Model\n",
        "from tensorflow.keras.layers import Activation\n",
        "\n",
        "output_shape = 6\n",
        "input = Input(shape=(11, 60, 100, 1))\n",
        "\n",
        "'''block_0'''\n",
        "b0_conv3d_1 = Conv3D(64, kernel_size=(2, 3, 3), padding='same', use_bias=False,\n",
        "                     name='b0_conv3d_1', kernel_initializer='he_normal')(input)\n",
        "b0_relu_1 = ReLU(name='b0_relu_1')(b0_conv3d_1)\n",
        "b0_bn_1 = BatchNormalization(name='b0_bn_1')(b0_relu_1)\n",
        "b0_out = MaxPooling3D(pool_size=(2, 2, 2))(b0_bn_1)\n",
        "\n",
        "'''block_1'''\n",
        "b1_cnv3d_1 = Conv3D(filters=16, kernel_size=(3, 3, 3), strides=(1, 2, 3), padding='same',\n",
        "                    use_bias=False, name='b1_cnv3d_1', kernel_initializer='he_normal')(b0_out)\n",
        "b1_relu_1 = ReLU(name='b1_relu_1')(b1_cnv3d_1)\n",
        "b1_bn_1 = BatchNormalization(name='b1_bn_1')(b1_relu_1)  # size: 14*14\n",
        "\n",
        "b1_cnv3d_2 = Conv3D(filters=32, kernel_size=(1, 1, 1), strides=(1, 1, 1), padding='same',\n",
        "                    use_bias=False, name='b1_cnv3d_2', kernel_initializer='he_normal')(b1_bn_1)\n",
        "b1_relu_2 = ReLU(name='b1_relu_2')(b1_cnv3d_2)\n",
        "b1_out = BatchNormalization(name='b1_out')(b1_relu_2)  # size: 14*14\n",
        "\n",
        "'''block 2'''\n",
        "b2_cnv3d_1 = Conv3D(filters=32, kernel_size=(1, 1, 1), strides=(1, 1, 1), padding='same',\n",
        "                    use_bias=False, name='b2_cnv3d_1', kernel_initializer='he_normal')(b1_out)\n",
        "b2_relu_1 = ReLU(name='b2_relu_1')(b2_cnv3d_1)\n",
        "b2_bn_1 = BatchNormalization(name='b2_bn_1')(b2_relu_1)  # size: 14*14\n",
        "\n",
        "b2_add = add([b1_out, b2_bn_1])  #\n",
        "\n",
        "b2_cnv3d_2 = Conv3D(filters=64, kernel_size=(3, 3, 3), strides=(1, 2, 3), padding='same',\n",
        "                    use_bias=False, name='b2_cnv3d_2', kernel_initializer='he_normal')(b2_add)\n",
        "b2_relu_2 = ReLU(name='b2_relu_2')(b2_cnv3d_2)\n",
        "b2_out = BatchNormalization(name='b2_bn_2')(b2_relu_2)  # size: 7*7\n",
        "\n",
        "'''block 3'''\n",
        "b3_cnv3d_1 = Conv3D(filters=64, kernel_size=(1, 1, 1), strides=(1, 1, 1), padding='same',\n",
        "                    use_bias=False, name='b3_cnv3d_1', kernel_initializer='he_normal')(b2_out)\n",
        "b3_relu_1 = ReLU(name='b3_relu_1')(b3_cnv3d_1)\n",
        "b3_bn_1 = BatchNormalization(name='b3_bn_1')(b3_relu_1)  # size: 7*7\n",
        "\n",
        "b3_add = add([b2_out, b3_bn_1])  #\n",
        "\n",
        "b3_cnv3d_2 = Conv3D(filters=128, kernel_size=(3, 3, 3), strides=(1, 2, 2), padding='same',\n",
        "                    use_bias=False, name='b3_cnv3d_2', kernel_initializer='he_normal')(b3_add)\n",
        "b3_relu_2 = ReLU(name='b3_relu_2')(b3_cnv3d_2)\n",
        "b3_out = BatchNormalization(name='b3_out')(b3_relu_2)  # size: 3*3\n",
        "\n",
        "'''block 4'''\n",
        "from tensorflow.keras.layers import Activation\n",
        "activation = 'wavenet'\n",
        "skip_connections = []\n",
        "use_skip_connections = False\n",
        "original_x = b3_out\n",
        "b4_tempconv1 = Conv3D(filters=32, kernel_size=(2,2,2),dilation_rate=(1,1,1), padding='same')(b3_out)\n",
        "if activation == 'norm_relu':\n",
        "    x = Activation('relu')(b4_tempconv1)\n",
        "    x = BatchNormalization(x)\n",
        "elif activation == 'wavenet':\n",
        "    tanh_out = Activation('tanh')(b4_tempconv1)\n",
        "    sigm_out = Activation('sigmoid')(b4_tempconv1)\n",
        "    x= tf.keras.layers.multiply([tanh_out, sigm_out])\n",
        "else:\n",
        "    x = Activation(activation)(b4_tempconv1)\n",
        "\n",
        "b4_spatialdropout1d =tf.keras.layers.SpatialDropout3D(0.)(x)\n",
        "\n",
        "x = Conv3D(32, 1, padding='same')(b4_spatialdropout1d)\n",
        "original_x= Conv3D(32, 1, padding='same')(original_x)\n",
        "res_x = tf.keras.layers.add([original_x, x])\n",
        "skip_connections.append(x)\n",
        "\n",
        "original_x = res_x\n",
        "b4_tempconv1 = Conv3D(filters=64, kernel_size=(3,3,3),dilation_rate=(2,2,2), padding='same')(res_x)\n",
        "if activation == 'norm_relu':\n",
        "    x = Activation('relu')(b4_tempconv1)\n",
        "    x = BatchNormalization(x)\n",
        "elif activation == 'wavenet':\n",
        "    tanh_out = Activation('tanh')(b4_tempconv1)\n",
        "    sigm_out = Activation('sigmoid')(b4_tempconv1)\n",
        "    x= tf.keras.layers.multiply([tanh_out, sigm_out])\n",
        "else:\n",
        "    x = Activation(activation)(b4_tempconv1)\n",
        "\n",
        "b4_spatialdropout1d =tf.keras.layers.SpatialDropout3D(0.5)(x)\n",
        "\n",
        "x = Conv3D(32, 1, padding='same')(b4_spatialdropout1d)\n",
        "original_x= Conv3D(32, 1, padding='same')(original_x)\n",
        "res_x = tf.keras.layers.add([original_x, x])\n",
        "skip_connections.append(x)\n",
        "\n",
        "original_x = res_x\n",
        "b4_tempconv1 = Conv3D(filters=128, kernel_size=(5,5,5),dilation_rate=(4,4,4), padding='same')(res_x)\n",
        "if activation == 'norm_relu':\n",
        "    x = Activation('relu')(b4_tempconv1)\n",
        "    x = BatchNormalization(x)\n",
        "elif activation == 'wavenet':\n",
        "    tanh_out = Activation('tanh')(b4_tempconv1)\n",
        "    sigm_out = Activation('sigmoid')(b4_tempconv1)\n",
        "    x= tf.keras.layers.multiply([tanh_out, sigm_out])\n",
        "else:\n",
        "    x = Activation(activation)(b4_tempconv1)\n",
        "\n",
        "b4_spatialdropout1d =tf.keras.layers.SpatialDropout3D(0.5)(x)\n",
        "\n",
        "x = Conv3D(32, 1, padding='same')(b4_spatialdropout1d)\n",
        "original_x= Conv3D(32, 1, padding='same')(original_x)\n",
        "res_x = tf.keras.layers.add([original_x, x])\n",
        "skip_connections.append(x)\n",
        "\n",
        "if use_skip_connections:\n",
        "    res_x = tf.keras.layers.add(skip_connections)\n",
        "\n",
        "x=Activation('relu')(res_x)\n",
        "\n",
        "flatten = Flatten()(x)\n",
        "last_layer = Dense(128, activation='relu')(flatten)\n",
        "output = Dense(output_shape, name='model_output', activation='softmax',\n",
        "               kernel_initializer='he_uniform')(last_layer)\n",
        "model = Model(input, output)\n",
        "model.compile(loss='categorical_crossentropy', optimizer='adam', metrics=['accuracy'])\n",
        "model.summary()\n"
      ],
      "id": "b2862d0af09d21d3"
    },
    {
      "cell_type": "code",
      "execution_count": null,
      "metadata": {
        "ExecuteTime": {
          "end_time": "2024-05-07T13:50:38.282268Z",
          "start_time": "2024-05-07T13:50:21.164797Z"
        },
        "id": "6149830e7f435f1f",
        "outputId": "e2723b92-28e3-411a-cdcd-6e0f2ba2de07"
      },
      "outputs": [
        {
          "name": "stdout",
          "output_type": "stream",
          "text": [
            "Train on 4768 samples, validate on 241 samples\n",
            "Epoch 1/50\n",
            "4768/4768 [==============================] - 34s 7ms/sample - loss: 1.5342 - accuracy: 0.4027 - val_loss: 1.3650 - val_accuracy: 0.4689\n",
            "Epoch 2/50\n",
            "4768/4768 [==============================] - 29s 6ms/sample - loss: 0.9317 - accuracy: 0.6460 - val_loss: 1.0745 - val_accuracy: 0.5809\n",
            "Epoch 3/50\n",
            "4768/4768 [==============================] - 29s 6ms/sample - loss: 0.6729 - accuracy: 0.7437 - val_loss: 1.1419 - val_accuracy: 0.5892\n",
            "Epoch 4/50\n",
            "4768/4768 [==============================] - 29s 6ms/sample - loss: 0.4852 - accuracy: 0.8119 - val_loss: 1.1345 - val_accuracy: 0.5892\n",
            "Epoch 5/50\n",
            "4768/4768 [==============================] - 29s 6ms/sample - loss: 0.3525 - accuracy: 0.8633 - val_loss: 1.2655 - val_accuracy: 0.5519\n",
            "Epoch 6/50\n",
            "4768/4768 [==============================] - 29s 6ms/sample - loss: 0.2420 - accuracy: 0.9067 - val_loss: 1.5403 - val_accuracy: 0.5768\n",
            "Epoch 7/50\n",
            "4768/4768 [==============================] - 29s 6ms/sample - loss: 0.1856 - accuracy: 0.9299 - val_loss: 1.5775 - val_accuracy: 0.6183\n",
            "Epoch 8/50\n",
            "4768/4768 [==============================] - 29s 6ms/sample - loss: 0.1423 - accuracy: 0.9486 - val_loss: 2.0145 - val_accuracy: 0.5685\n",
            "Epoch 9/50\n",
            "4768/4768 [==============================] - 29s 6ms/sample - loss: 0.1510 - accuracy: 0.9440 - val_loss: 1.8939 - val_accuracy: 0.5477\n",
            "Epoch 10/50\n",
            "4768/4768 [==============================] - 29s 6ms/sample - loss: 0.0843 - accuracy: 0.9713 - val_loss: 2.0223 - val_accuracy: 0.5809\n",
            "Epoch 11/50\n",
            "4768/4768 [==============================] - 29s 6ms/sample - loss: 0.0891 - accuracy: 0.9708 - val_loss: 2.3107 - val_accuracy: 0.5519\n",
            "Epoch 12/50\n",
            "4768/4768 [==============================] - 29s 6ms/sample - loss: 0.1150 - accuracy: 0.9614 - val_loss: 2.1524 - val_accuracy: 0.5436\n",
            "Epoch 13/50\n",
            "4768/4768 [==============================] - 29s 6ms/sample - loss: 0.1133 - accuracy: 0.9593 - val_loss: 2.0682 - val_accuracy: 0.6017\n",
            "Epoch 14/50\n",
            "4768/4768 [==============================] - 29s 6ms/sample - loss: 0.0887 - accuracy: 0.9696 - val_loss: 2.4586 - val_accuracy: 0.5726\n",
            "Epoch 15/50\n",
            "4768/4768 [==============================] - 29s 6ms/sample - loss: 0.0587 - accuracy: 0.9794 - val_loss: 2.1991 - val_accuracy: 0.5892\n",
            "Epoch 16/50\n",
            "4768/4768 [==============================] - 29s 6ms/sample - loss: 0.0243 - accuracy: 0.9929 - val_loss: 2.2238 - val_accuracy: 0.6266\n",
            "Epoch 17/50\n",
            "4768/4768 [==============================] - 29s 6ms/sample - loss: 0.0136 - accuracy: 0.9969 - val_loss: 2.6373 - val_accuracy: 0.5975\n",
            "Epoch 18/50\n",
            "4768/4768 [==============================] - 29s 6ms/sample - loss: 0.0097 - accuracy: 0.9979 - val_loss: 2.8041 - val_accuracy: 0.6058\n",
            "Epoch 19/50\n",
            "4768/4768 [==============================] - 29s 6ms/sample - loss: 0.0200 - accuracy: 0.9939 - val_loss: 2.6611 - val_accuracy: 0.6100\n",
            "Epoch 20/50\n",
            "4768/4768 [==============================] - 29s 6ms/sample - loss: 0.0940 - accuracy: 0.9662 - val_loss: 2.3566 - val_accuracy: 0.5643\n",
            "Epoch 21/50\n",
            "4768/4768 [==============================] - 29s 6ms/sample - loss: 0.1318 - accuracy: 0.9536 - val_loss: 2.4246 - val_accuracy: 0.5892\n",
            "Epoch 22/50\n",
            "4768/4768 [==============================] - 29s 6ms/sample - loss: 0.0676 - accuracy: 0.9794 - val_loss: 2.3440 - val_accuracy: 0.5602\n",
            "Epoch 23/50\n",
            "4768/4768 [==============================] - 29s 6ms/sample - loss: 0.0370 - accuracy: 0.9872 - val_loss: 2.6384 - val_accuracy: 0.5602\n",
            "Epoch 24/50\n",
            "4768/4768 [==============================] - 29s 6ms/sample - loss: 0.0493 - accuracy: 0.9803 - val_loss: 2.9429 - val_accuracy: 0.6017\n",
            "Epoch 25/50\n",
            "4768/4768 [==============================] - 29s 6ms/sample - loss: 0.0680 - accuracy: 0.9761 - val_loss: 2.8551 - val_accuracy: 0.5768\n",
            "Epoch 26/50\n",
            "4736/4768 [============================>.] - ETA: 0s - loss: 0.0663 - accuracy: 0.9774Restoring model weights from the end of the best epoch.\n",
            "4768/4768 [==============================] - 29s 6ms/sample - loss: 0.0660 - accuracy: 0.9776 - val_loss: 2.5183 - val_accuracy: 0.5519\n",
            "Epoch 00026: early stopping\n"
          ]
        },
        {
          "data": {
            "text/plain": [
              "<tensorflow.python.keras.callbacks.History at 0x7f8fd8089f60>"
            ]
          },
          "execution_count": 33,
          "metadata": {},
          "output_type": "execute_result"
        }
      ],
      "source": [
        "es = tf.keras.callbacks.EarlyStopping(monitor='val_accuracy', verbose=1, patience=10, restore_best_weights=True,\n",
        "                                      min_delta=0.001)\n",
        "model.fit(X_train, Y_train, batch_size=64, epochs=50, verbose=1, validation_data=(X_valid, Y_valid,), callbacks=[es])"
      ],
      "id": "6149830e7f435f1f"
    },
    {
      "cell_type": "code",
      "execution_count": null,
      "metadata": {
        "id": "5997948676dc161c",
        "outputId": "b41d1238-b0d1-4805-9beb-ec6654b65391"
      },
      "outputs": [
        {
          "name": "stdout",
          "output_type": "stream",
          "text": [
            "              precision    recall  f1-score   support\n",
            "\n",
            "           0       0.65      0.56      0.60        50\n",
            "           1       0.66      0.64      0.65        36\n",
            "           2       0.38      0.46      0.41        50\n",
            "           3       0.52      0.57      0.54        28\n",
            "           4       0.80      0.82      0.81        50\n",
            "           5       0.62      0.48      0.55        31\n",
            "\n",
            "    accuracy                           0.60       245\n",
            "   macro avg       0.61      0.59      0.59       245\n",
            "weighted avg       0.61      0.60      0.60       245\n"
          ]
        }
      ],
      "source": [
        "from sklearn.metrics import classification_report\n",
        "\n",
        "preds = model.predict(X_test)\n",
        "\n",
        "print(classification_report(np.argmax(Y_test,1),np.argmax(preds,1)))"
      ],
      "id": "5997948676dc161c"
    },
    {
      "cell_type": "code",
      "execution_count": null,
      "metadata": {
        "id": "2d43da0a741cfaa0",
        "outputId": "2afee5fe-0f2b-480d-eb92-688dbe2733c5"
      },
      "outputs": [
        {
          "data": {
            "text/plain": [
              "<matplotlib.axes._subplots.AxesSubplot at 0x7f8fd03bb7b8>"
            ]
          },
          "execution_count": 35,
          "metadata": {},
          "output_type": "execute_result"
        },
        {
          "data": {
            "image/png": "[encoded data removed]",
            "text/plain": [
              "<Figure size 432x288 with 2 Axes>"
            ]
          },
          "metadata": {
            "needs_background": "light"
          },
          "output_type": "display_data"
        }
      ],
      "source": [
        "from sklearn.metrics import confusion_matrix\n",
        "import seaborn as sns\n",
        "conf=confusion_matrix(np.argmax(Y_test,1),np.argmax(preds,1))\n",
        "sns.heatmap(conf, annot=True, fmt='d', vmax=100)"
      ],
      "id": "2d43da0a741cfaa0"
    },
    {
      "cell_type": "code",
      "execution_count": null,
      "metadata": {
        "id": "8ecc72442e3a89c0"
      },
      "outputs": [],
      "source": [
        "model.save('model.dilatatedcovnet.keras')"
      ],
      "id": "8ecc72442e3a89c0"
    },
    {
      "metadata": {
        "id": "7b1720bc20299788"
      },
      "cell_type": "markdown",
      "source": [
        "BiLSTM model"
      ],
      "id": "7b1720bc20299788"
    },
    {
      "cell_type": "code",
      "execution_count": null,
      "metadata": {
        "id": "bfd9094301a19c70",
        "is_executing": true,
        "outputId": "bc59f4b7-9c89-4e97-a3a2-70052d821a2d"
      },
      "outputs": [
        {
          "name": "stdout",
          "output_type": "stream",
          "text": [
            "Model: \"model_9\"\n",
            "__________________________________________________________________________________________________\n",
            "Layer (type)                    Output Shape         Param #     Connected to                     \n",
            "==================================================================================================\n",
            "input_19 (InputLayer)           [(None, 11, 60, 100, 0                                            \n",
            "__________________________________________________________________________________________________\n",
            "b0_conv3d_1 (Conv3D)            (None, 11, 30, 34, 6 1152        input_19[0][0]                   \n",
            "__________________________________________________________________________________________________\n",
            "b0_relu_1 (ReLU)                (None, 11, 30, 34, 6 0           b0_conv3d_1[0][0]                \n",
            "__________________________________________________________________________________________________\n",
            "b0_bn_1 (BatchNormalization)    (None, 11, 30, 34, 6 256         b0_relu_1[0][0]                  \n",
            "__________________________________________________________________________________________________\n",
            "b1_cnv3d_1 (Conv3D)             (None, 11, 30, 34, 1 27648       b0_bn_1[0][0]                    \n",
            "__________________________________________________________________________________________________\n",
            "b1_relu_1 (ReLU)                (None, 11, 30, 34, 1 0           b1_cnv3d_1[0][0]                 \n",
            "__________________________________________________________________________________________________\n",
            "b1_bn_1 (BatchNormalization)    (None, 11, 30, 34, 1 64          b1_relu_1[0][0]                  \n",
            "__________________________________________________________________________________________________\n",
            "b1_cnv3d_2 (Conv3D)             (None, 11, 30, 34, 3 512         b1_bn_1[0][0]                    \n",
            "__________________________________________________________________________________________________\n",
            "b1_relu_2 (ReLU)                (None, 11, 30, 34, 3 0           b1_cnv3d_2[0][0]                 \n",
            "__________________________________________________________________________________________________\n",
            "b1_out (BatchNormalization)     (None, 11, 30, 34, 3 128         b1_relu_2[0][0]                  \n",
            "__________________________________________________________________________________________________\n",
            "b2_cnv3d_1 (Conv3D)             (None, 11, 30, 34, 3 1024        b1_out[0][0]                     \n",
            "__________________________________________________________________________________________________\n",
            "b2_relu_1 (ReLU)                (None, 11, 30, 34, 3 0           b2_cnv3d_1[0][0]                 \n",
            "__________________________________________________________________________________________________\n",
            "b2_bn_1 (BatchNormalization)    (None, 11, 30, 34, 3 128         b2_relu_1[0][0]                  \n",
            "__________________________________________________________________________________________________\n",
            "add_57 (Add)                    (None, 11, 30, 34, 3 0           b1_out[0][0]                     \n",
            "                                                                 b2_bn_1[0][0]                    \n",
            "__________________________________________________________________________________________________\n",
            "b2_cnv3d_2 (Conv3D)             (None, 11, 10, 9, 64 55296       add_57[0][0]                     \n",
            "__________________________________________________________________________________________________\n",
            "b2_relu_2 (ReLU)                (None, 11, 10, 9, 64 0           b2_cnv3d_2[0][0]                 \n",
            "__________________________________________________________________________________________________\n",
            "b2_out (BatchNormalization)     (None, 11, 10, 9, 64 256         b2_relu_2[0][0]                  \n",
            "__________________________________________________________________________________________________\n",
            "b3_cnv3d_1 (Conv3D)             (None, 11, 10, 9, 64 4096        b2_out[0][0]                     \n",
            "__________________________________________________________________________________________________\n",
            "b3_relu_1 (ReLU)                (None, 11, 10, 9, 64 0           b3_cnv3d_1[0][0]                 \n",
            "__________________________________________________________________________________________________\n",
            "b3_bn_1 (BatchNormalization)    (None, 11, 10, 9, 64 256         b3_relu_1[0][0]                  \n",
            "__________________________________________________________________________________________________\n",
            "add_58 (Add)                    (None, 11, 10, 9, 64 0           b2_out[0][0]                     \n",
            "                                                                 b3_bn_1[0][0]                    \n",
            "__________________________________________________________________________________________________\n",
            "b3_cnv3d_2 (Conv3D)             (None, 11, 10, 9, 64 110592      add_58[0][0]                     \n",
            "__________________________________________________________________________________________________\n",
            "b3_relu_2 (ReLU)                (None, 11, 10, 9, 64 0           b3_cnv3d_2[0][0]                 \n",
            "__________________________________________________________________________________________________\n",
            "b3_out (BatchNormalization)     (None, 11, 10, 9, 64 256         b3_relu_2[0][0]                  \n",
            "__________________________________________________________________________________________________\n",
            "b4_cnv3d_1 (Conv3D)             (None, 11, 10, 9, 64 4096        b3_out[0][0]                     \n",
            "__________________________________________________________________________________________________\n",
            "b4_relu_1 (ReLU)                (None, 11, 10, 9, 64 0           b4_cnv3d_1[0][0]                 \n",
            "__________________________________________________________________________________________________\n",
            "b4_bn_1 (BatchNormalization)    (None, 11, 10, 9, 64 256         b4_relu_1[0][0]                  \n",
            "__________________________________________________________________________________________________\n",
            "add_59 (Add)                    (None, 11, 10, 9, 64 0           b3_out[0][0]                     \n",
            "                                                                 b4_bn_1[0][0]                    \n",
            "__________________________________________________________________________________________________\n",
            "b4_cnv3d_2 (Conv3D)             (None, 11, 5, 5, 128 221184      add_59[0][0]                     \n",
            "__________________________________________________________________________________________________\n",
            "b4_relu_2 (ReLU)                (None, 11, 5, 5, 128 0           b4_cnv3d_2[0][0]                 \n",
            "__________________________________________________________________________________________________\n",
            "b4_out (BatchNormalization)     (None, 11, 5, 5, 128 512         b4_relu_2[0][0]                  \n",
            "__________________________________________________________________________________________________\n",
            "reshape_13 (Reshape)            (None, 11, 3200)     0           b4_out[0][0]                     \n",
            "__________________________________________________________________________________________________\n",
            "bidirectional_14 (Bidirectional (None, 11, 256)      3408896     reshape_13[0][0]                 \n",
            "__________________________________________________________________________________________________\n",
            "dropout_24 (Dropout)            (None, 11, 256)      0           bidirectional_14[0][0]           \n",
            "__________________________________________________________________________________________________\n",
            "bidirectional_15 (Bidirectional (None, 256)          394240      dropout_24[0][0]                 \n",
            "__________________________________________________________________________________________________\n",
            "dropout_25 (Dropout)            (None, 256)          0           bidirectional_15[0][0]           \n",
            "__________________________________________________________________________________________________\n",
            "dense_14 (Dense)                (None, 128)          32896       dropout_25[0][0]                 \n",
            "__________________________________________________________________________________________________\n",
            "model_output (Dense)            (None, 6)            774         dense_14[0][0]                   \n",
            "==================================================================================================\n",
            "Total params: 4,264,518\n",
            "Trainable params: 4,263,462\n",
            "Non-trainable params: 1,056\n",
            "__________________________________________________________________________________________________\n"
          ]
        }
      ],
      "source": [
        "import tensorflow as tf\n",
        "from tensorflow.keras.layers import Conv2D, Conv3D, MaxPooling3D,MaxPooling2D, Flatten, Dense, Dropout, BatchNormalization, Input, \\\n",
        "    ReLU, GlobalAveragePooling3D, add\n",
        "from tensorflow.keras.models import Model\n",
        "\n",
        "\n",
        "output_shape = 6\n",
        "input = Input(shape=(11, 60, 100, 1))\n",
        "\n",
        "'''block_0'''\n",
        "b0_conv3d_1 = Conv3D(64, kernel_size=(2, 3, 3),strides=(1,2,3), padding='same', use_bias=False,\n",
        "                     name='b0_conv3d_1', kernel_initializer='he_normal')(input)\n",
        "b0_relu_1 = ReLU(name='b0_relu_1')(b0_conv3d_1)\n",
        "b0_bn_1 = BatchNormalization(name='b0_bn_1')(b0_relu_1)\n",
        "\n",
        "\n",
        "'''block_1'''\n",
        "b1_cnv3d_1 = Conv3D(filters=16, kernel_size=(3, 3, 3) ,padding='same',\n",
        "                    use_bias=False, name='b1_cnv3d_1', kernel_initializer='he_normal')(b0_bn_1)\n",
        "b1_relu_1 = ReLU(name='b1_relu_1')(b1_cnv3d_1)\n",
        "b1_bn_1 = BatchNormalization(name='b1_bn_1')(b1_relu_1)  # size: 14*14\n",
        "\n",
        "b1_cnv3d_2 = Conv3D(filters=32, kernel_size=(1, 1, 1), padding='same',\n",
        "                    use_bias=False, name='b1_cnv3d_2', kernel_initializer='he_normal')(b1_bn_1)\n",
        "b1_relu_2 = ReLU(name='b1_relu_2')(b1_cnv3d_2)\n",
        "b1_out = BatchNormalization(name='b1_out')(b1_relu_2)  # size: 14*14\n",
        "\n",
        "'''block 2'''\n",
        "b2_cnv3d_1 = Conv3D(filters=32, kernel_size=(1, 1, 1), strides=(1, 1, 1), padding='same',\n",
        "                    use_bias=False, name='b2_cnv3d_1', kernel_initializer='he_normal')(b1_out)\n",
        "b2_relu_1 = ReLU(name='b2_relu_1')(b2_cnv3d_1)\n",
        "b2_bn_1 = BatchNormalization(name='b2_bn_1')(b2_relu_1)  # size: 14*14\n",
        "\n",
        "b2_add = add([b1_out, b2_bn_1])  #\n",
        "\n",
        "b2_cnv3d_2 = Conv3D(filters=64, kernel_size=(3, 3, 3), strides=(1, 3, 4),padding='same',\n",
        "                    use_bias=False, name='b2_cnv3d_2', kernel_initializer='he_normal')(b2_add)\n",
        "b2_relu_2 = ReLU(name='b2_relu_2')(b2_cnv3d_2)\n",
        "b2_out = BatchNormalization(name='b2_out')(b2_relu_2)  # size: 7*7\n",
        "\n",
        "'''block 3'''\n",
        "b3_cnv3d_1 = Conv3D(filters=64, kernel_size=(1, 1, 1), strides=(1, 1, 1), padding='same',\n",
        "                    use_bias=False, name='b3_cnv3d_1', kernel_initializer='he_normal')(b2_out)\n",
        "b3_relu_1 = ReLU(name='b3_relu_1')(b3_cnv3d_1)\n",
        "b3_bn_1 = BatchNormalization(name='b3_bn_1')(b3_relu_1)  # size: 7*7\n",
        "\n",
        "b3_add = add([b2_out, b3_bn_1])  #\n",
        "\n",
        "b3_cnv3d_2 = Conv3D(filters=64, kernel_size=(3, 3, 3), padding='same',\n",
        "                    use_bias=False, name='b3_cnv3d_2', kernel_initializer='he_normal')(b3_add)\n",
        "b3_relu_2 = ReLU(name='b3_relu_2')(b3_cnv3d_2)\n",
        "b3_out = BatchNormalization(name='b3_out')(b3_relu_2)  # size: 3*3\n",
        "\n",
        "'''block 4'''\n",
        "\n",
        "b4_cnv3d_1 = Conv3D(filters=64, kernel_size=(1, 1, 1), strides=(1, 1, 1), padding='same',\n",
        "                    use_bias=False, name='b4_cnv3d_1', kernel_initializer='he_normal')(b3_out)\n",
        "b4_relu_1 = ReLU(name='b4_relu_1')(b4_cnv3d_1)\n",
        "b4_bn_1 = BatchNormalization(name='b4_bn_1')(b4_relu_1)  # size: 7*7\n",
        "\n",
        "b4_add = add([b3_out, b4_bn_1])  #\n",
        "\n",
        "b4_cnv3d_2 = Conv3D(filters=128, kernel_size=(3, 3, 3), strides=(1, 2, 2), padding='same',\n",
        "                    use_bias=False, name='b4_cnv3d_2', kernel_initializer='he_normal')(b4_add)\n",
        "b4_relu_2 = ReLU(name='b4_relu_2')(b4_cnv3d_2)\n",
        "b4_out = BatchNormalization(name='b4_out')(b4_relu_2)\n",
        "\n",
        "\"\"\"BiLSTM\"\"\"\n",
        "\n",
        "reshaped2 = tf.keras.layers.Reshape((11,25* 128))(b4_out)\n",
        "bi_lstm =tf.keras.layers.Bidirectional(tf.keras.layers.LSTM(128,return_sequences=True))(reshaped2)\n",
        "dropout = tf.keras.layers.Dropout(0.5)(bi_lstm)\n",
        "bi_lstm2 =tf.keras.layers.Bidirectional(tf.keras.layers.LSTM(128))(dropout)\n",
        "dropout2 = tf.keras.layers.Dropout(0.5)(bi_lstm2)\n",
        "last_layer = Dense(128, activation='relu')(dropout2)\n",
        "output = Dense(output_shape, name='model_output', activation='softmax',\n",
        "               kernel_initializer='he_uniform')(last_layer)\n",
        "model = Model(input, output)\n",
        "model.compile(loss='categorical_crossentropy', optimizer='adam', metrics=['accuracy'])\n",
        "model.summary()"
      ],
      "id": "bfd9094301a19c70"
    },
    {
      "cell_type": "code",
      "execution_count": null,
      "metadata": {
        "id": "e79c9d4893e376d9",
        "outputId": "1fae6bf8-de78-4998-ef6b-db6bbd42ff19"
      },
      "outputs": [
        {
          "name": "stdout",
          "output_type": "stream",
          "text": [
            "Train on 4768 samples, validate on 241 samples\n",
            "Epoch 1/50\n",
            "4768/4768 [==============================] - 24s 5ms/sample - loss: 1.6302 - accuracy: 0.3035 - val_loss: 1.6521 - val_accuracy: 0.2988\n",
            "Epoch 2/50\n",
            "4768/4768 [==============================] - 17s 4ms/sample - loss: 1.1538 - accuracy: 0.5445 - val_loss: 1.3550 - val_accuracy: 0.4564\n",
            "Epoch 3/50\n",
            "4768/4768 [==============================] - 17s 4ms/sample - loss: 0.9103 - accuracy: 0.6445 - val_loss: 1.5488 - val_accuracy: 0.4772\n",
            "Epoch 4/50\n",
            "4768/4768 [==============================] - 17s 4ms/sample - loss: 0.7756 - accuracy: 0.7074 - val_loss: 1.0999 - val_accuracy: 0.5768\n",
            "Epoch 5/50\n",
            "4768/4768 [==============================] - 17s 4ms/sample - loss: 0.6560 - accuracy: 0.7469 - val_loss: 1.0745 - val_accuracy: 0.6390\n",
            "Epoch 6/50\n",
            "4768/4768 [==============================] - 17s 4ms/sample - loss: 0.5535 - accuracy: 0.7875 - val_loss: 1.0924 - val_accuracy: 0.6763\n",
            "Epoch 7/50\n",
            "4768/4768 [==============================] - 17s 4ms/sample - loss: 0.4904 - accuracy: 0.8041 - val_loss: 1.7115 - val_accuracy: 0.5270\n",
            "Epoch 8/50\n",
            "4768/4768 [==============================] - 17s 4ms/sample - loss: 0.4544 - accuracy: 0.8245 - val_loss: 1.3198 - val_accuracy: 0.5560\n",
            "Epoch 9/50\n",
            "4768/4768 [==============================] - 17s 4ms/sample - loss: 0.3606 - accuracy: 0.8557 - val_loss: 1.1713 - val_accuracy: 0.6846\n",
            "Epoch 10/50\n",
            "4768/4768 [==============================] - 17s 4ms/sample - loss: 0.3210 - accuracy: 0.8695 - val_loss: 1.5099 - val_accuracy: 0.5892\n",
            "Epoch 11/50\n",
            "4768/4768 [==============================] - 17s 4ms/sample - loss: 0.3270 - accuracy: 0.8744 - val_loss: 1.6409 - val_accuracy: 0.5809\n",
            "Epoch 12/50\n",
            "4768/4768 [==============================] - 17s 4ms/sample - loss: 0.2663 - accuracy: 0.8985 - val_loss: 1.4477 - val_accuracy: 0.6141\n",
            "Epoch 13/50\n",
            "4768/4768 [==============================] - 17s 4ms/sample - loss: 0.2238 - accuracy: 0.9157 - val_loss: 1.5253 - val_accuracy: 0.6390\n",
            "Epoch 14/50\n",
            "4768/4768 [==============================] - 17s 4ms/sample - loss: 0.2236 - accuracy: 0.9121 - val_loss: 1.4468 - val_accuracy: 0.6515\n",
            "Epoch 15/50\n",
            "4768/4768 [==============================] - 17s 4ms/sample - loss: 0.2019 - accuracy: 0.9243 - val_loss: 1.7126 - val_accuracy: 0.6141\n",
            "Epoch 16/50\n",
            "4768/4768 [==============================] - 17s 4ms/sample - loss: 0.1586 - accuracy: 0.9423 - val_loss: 1.7935 - val_accuracy: 0.6058\n",
            "Epoch 17/50\n",
            "4768/4768 [==============================] - 17s 4ms/sample - loss: 0.1631 - accuracy: 0.9406 - val_loss: 1.6305 - val_accuracy: 0.6473\n",
            "Epoch 18/50\n",
            "4768/4768 [==============================] - 17s 4ms/sample - loss: 0.1262 - accuracy: 0.9551 - val_loss: 1.7838 - val_accuracy: 0.6390\n",
            "Epoch 19/50\n",
            "4736/4768 [============================>.] - ETA: 0s - loss: 0.0889 - accuracy: 0.9692Restoring model weights from the end of the best epoch.\n",
            "4768/4768 [==============================] - 17s 4ms/sample - loss: 0.0895 - accuracy: 0.9690 - val_loss: 1.6632 - val_accuracy: 0.6473\n",
            "Epoch 00019: early stopping\n"
          ]
        },
        {
          "data": {
            "text/plain": [
              "<tensorflow.python.keras.callbacks.History at 0x7f8fd9ca5358>"
            ]
          },
          "execution_count": 38,
          "metadata": {},
          "output_type": "execute_result"
        }
      ],
      "source": [
        "es=tf.keras.callbacks.EarlyStopping(monitor='val_accuracy', verbose=1, patience=10, restore_best_weights=True,\n",
        "                                      min_delta=0.001)\n",
        "model.fit(X_train, Y_train, batch_size=64, epochs=50, verbose=1, validation_data=(X_valid, Y_valid,), callbacks=[es])"
      ],
      "id": "e79c9d4893e376d9"
    },
    {
      "cell_type": "code",
      "execution_count": null,
      "metadata": {
        "id": "98caffe7cffcada2",
        "outputId": "3f1f0d9a-9678-4b4d-f4cc-881939dbcdc1"
      },
      "outputs": [
        {
          "name": "stdout",
          "output_type": "stream",
          "text": [
            "              precision    recall  f1-score   support\n",
            "\n",
            "           0       0.62      0.68      0.65        50\n",
            "           1       0.69      0.81      0.74        36\n",
            "           2       0.58      0.42      0.49        50\n",
            "           3       0.65      0.79      0.71        28\n",
            "           4       0.87      0.68      0.76        50\n",
            "           5       0.56      0.71      0.63        31\n",
            "\n",
            "    accuracy                           0.66       245\n",
            "   macro avg       0.66      0.68      0.66       245\n",
            "weighted avg       0.67      0.66      0.66       245\n"
          ]
        }
      ],
      "source": [
        "from sklearn.metrics import classification_report\n",
        "\n",
        "preds = model.predict(X_test)\n",
        "\n",
        "print(classification_report(np.argmax(Y_test,1),np.argmax(preds,1)))\n"
      ],
      "id": "98caffe7cffcada2"
    },
    {
      "cell_type": "code",
      "execution_count": null,
      "metadata": {
        "id": "a592136330502960",
        "outputId": "de9f7f60-9baa-443b-9ccf-7c864dfc6f7f"
      },
      "outputs": [
        {
          "data": {
            "text/plain": [
              "<matplotlib.axes._subplots.AxesSubplot at 0x7f8fd822def0>"
            ]
          },
          "execution_count": 40,
          "metadata": {},
          "output_type": "execute_result"
        },
        {
          "data": {
            "image/png": "[encoded data removed]",
            "text/plain": [
              "<Figure size 432x288 with 2 Axes>"
            ]
          },
          "metadata": {
            "needs_background": "light"
          },
          "output_type": "display_data"
        }
      ],
      "source": [
        "from sklearn.metrics import confusion_matrix\n",
        "import seaborn as sns\n",
        "conf=confusion_matrix(np.argmax(Y_test,1),np.argmax(preds,1))\n",
        "sns.heatmap(conf, annot=True, fmt='d', vmax=100)"
      ],
      "id": "a592136330502960"
    },
    {
      "cell_type": "code",
      "execution_count": null,
      "metadata": {
        "id": "b1bf27223dd823ff"
      },
      "outputs": [],
      "source": [
        "model.save('model.bilstm.keras')"
      ],
      "id": "b1bf27223dd823ff"
    },
    {
      "metadata": {
        "id": "b6bdf137adb1025b"
      },
      "cell_type": "markdown",
      "source": [
        "Temporal ConvNet model"
      ],
      "id": "b6bdf137adb1025b"
    },
    {
      "cell_type": "code",
      "execution_count": null,
      "metadata": {
        "ExecuteTime": {
          "end_time": "2024-05-14T18:25:35.316633Z",
          "start_time": "2024-05-14T18:25:34.727599Z"
        },
        "colab": {
          "base_uri": "https://localhost:8080/"
        },
        "id": "af0481c9bbfbe546",
        "outputId": "9d6c9759-64a0-44fb-c419-5e63d477f9b5"
      },
      "outputs": [
        {
          "name": "stdout",
          "output_type": "stream",
          "text": [
            "Model: \"model_12\"\n",
            "__________________________________________________________________________________________________\n",
            "Layer (type)                    Output Shape         Param #     Connected to                     \n",
            "==================================================================================================\n",
            "input_22 (InputLayer)           [(None, 11, 60, 100, 0                                            \n",
            "__________________________________________________________________________________________________\n",
            "b0_conv3d_1 (Conv3D)            (None, 11, 30, 34, 6 1152        input_22[0][0]                   \n",
            "__________________________________________________________________________________________________\n",
            "b0_relu_1 (ReLU)                (None, 11, 30, 34, 6 0           b0_conv3d_1[0][0]                \n",
            "__________________________________________________________________________________________________\n",
            "b0_bn_1 (BatchNormalization)    (None, 11, 30, 34, 6 256         b0_relu_1[0][0]                  \n",
            "__________________________________________________________________________________________________\n",
            "b1_cnv3d_1 (Conv3D)             (None, 11, 30, 34, 1 27648       b0_bn_1[0][0]                    \n",
            "__________________________________________________________________________________________________\n",
            "b1_relu_1 (ReLU)                (None, 11, 30, 34, 1 0           b1_cnv3d_1[0][0]                 \n",
            "__________________________________________________________________________________________________\n",
            "b1_bn_1 (BatchNormalization)    (None, 11, 30, 34, 1 64          b1_relu_1[0][0]                  \n",
            "__________________________________________________________________________________________________\n",
            "b1_cnv3d_2 (Conv3D)             (None, 11, 30, 34, 3 512         b1_bn_1[0][0]                    \n",
            "__________________________________________________________________________________________________\n",
            "b1_relu_2 (ReLU)                (None, 11, 30, 34, 3 0           b1_cnv3d_2[0][0]                 \n",
            "__________________________________________________________________________________________________\n",
            "b1_out (BatchNormalization)     (None, 11, 30, 34, 3 128         b1_relu_2[0][0]                  \n",
            "__________________________________________________________________________________________________\n",
            "b2_cnv3d_1 (Conv3D)             (None, 11, 30, 34, 3 1024        b1_out[0][0]                     \n",
            "__________________________________________________________________________________________________\n",
            "b2_relu_1 (ReLU)                (None, 11, 30, 34, 3 0           b2_cnv3d_1[0][0]                 \n",
            "__________________________________________________________________________________________________\n",
            "b2_bn_1 (BatchNormalization)    (None, 11, 30, 34, 3 128         b2_relu_1[0][0]                  \n",
            "__________________________________________________________________________________________________\n",
            "add_66 (Add)                    (None, 11, 30, 34, 3 0           b1_out[0][0]                     \n",
            "                                                                 b2_bn_1[0][0]                    \n",
            "__________________________________________________________________________________________________\n",
            "b2_cnv3d_2 (Conv3D)             (None, 11, 10, 9, 64 55296       add_66[0][0]                     \n",
            "__________________________________________________________________________________________________\n",
            "b2_relu_2 (ReLU)                (None, 11, 10, 9, 64 0           b2_cnv3d_2[0][0]                 \n",
            "__________________________________________________________________________________________________\n",
            "b2_out (BatchNormalization)     (None, 11, 10, 9, 64 256         b2_relu_2[0][0]                  \n",
            "__________________________________________________________________________________________________\n",
            "b3_cnv3d_1 (Conv3D)             (None, 11, 10, 9, 64 4096        b2_out[0][0]                     \n",
            "__________________________________________________________________________________________________\n",
            "b3_relu_1 (ReLU)                (None, 11, 10, 9, 64 0           b3_cnv3d_1[0][0]                 \n",
            "__________________________________________________________________________________________________\n",
            "b3_bn_1 (BatchNormalization)    (None, 11, 10, 9, 64 256         b3_relu_1[0][0]                  \n",
            "__________________________________________________________________________________________________\n",
            "add_67 (Add)                    (None, 11, 10, 9, 64 0           b2_out[0][0]                     \n",
            "                                                                 b3_bn_1[0][0]                    \n",
            "__________________________________________________________________________________________________\n",
            "b3_cnv3d_2 (Conv3D)             (None, 11, 10, 9, 64 110592      add_67[0][0]                     \n",
            "__________________________________________________________________________________________________\n",
            "b3_relu_2 (ReLU)                (None, 11, 10, 9, 64 0           b3_cnv3d_2[0][0]                 \n",
            "__________________________________________________________________________________________________\n",
            "b3_out (BatchNormalization)     (None, 11, 10, 9, 64 256         b3_relu_2[0][0]                  \n",
            "__________________________________________________________________________________________________\n",
            "b4_cnv3d_1 (Conv3D)             (None, 11, 10, 9, 64 4096        b3_out[0][0]                     \n",
            "__________________________________________________________________________________________________\n",
            "b4_relu_1 (ReLU)                (None, 11, 10, 9, 64 0           b4_cnv3d_1[0][0]                 \n",
            "__________________________________________________________________________________________________\n",
            "b4_bn_1 (BatchNormalization)    (None, 11, 10, 9, 64 256         b4_relu_1[0][0]                  \n",
            "__________________________________________________________________________________________________\n",
            "add_68 (Add)                    (None, 11, 10, 9, 64 0           b3_out[0][0]                     \n",
            "                                                                 b4_bn_1[0][0]                    \n",
            "__________________________________________________________________________________________________\n",
            "b4_cnv3d_2 (Conv3D)             (None, 11, 5, 5, 128 221184      add_68[0][0]                     \n",
            "__________________________________________________________________________________________________\n",
            "b4_relu_2 (ReLU)                (None, 11, 5, 5, 128 0           b4_cnv3d_2[0][0]                 \n",
            "__________________________________________________________________________________________________\n",
            "b4_out (BatchNormalization)     (None, 11, 5, 5, 128 512         b4_relu_2[0][0]                  \n",
            "__________________________________________________________________________________________________\n",
            "reshaper_3 (Reshaper)           (None, 11, 3200)     0           b4_out[0][0]                     \n",
            "__________________________________________________________________________________________________\n",
            "temporal_block_12 (TemporalBloc (None, 11, 64)       1040832     reshaper_3[0][0]                 \n",
            "__________________________________________________________________________________________________\n",
            "se_attention_9 (SEAttention)    (None, 128)          115584      temporal_block_12[0][0]          \n",
            "__________________________________________________________________________________________________\n",
            "expanddim_9 (Expanddim)         (None, 128, 1)       0           se_attention_9[0][0]             \n",
            "__________________________________________________________________________________________________\n",
            "temporal_block_13 (TemporalBloc (None, 128, 128)     133120      expanddim_9[0][0]                \n",
            "__________________________________________________________________________________________________\n",
            "se_attention_10 (SEAttention)   (None, 128)          148352      temporal_block_13[0][0]          \n",
            "__________________________________________________________________________________________________\n",
            "expanddim_10 (Expanddim)        (None, 128, 1)       0           se_attention_10[0][0]            \n",
            "__________________________________________________________________________________________________\n",
            "temporal_block_14 (TemporalBloc (None, 128, 256)     528384      expanddim_10[0][0]               \n",
            "__________________________________________________________________________________________________\n",
            "se_attention_11 (SEAttention)   (None, 128)          213888      temporal_block_14[0][0]          \n",
            "__________________________________________________________________________________________________\n",
            "expanddim_11 (Expanddim)        (None, 128, 1)       0           se_attention_11[0][0]            \n",
            "__________________________________________________________________________________________________\n",
            "temporal_block_15 (TemporalBloc (None, 128, 128)     133120      expanddim_11[0][0]               \n",
            "__________________________________________________________________________________________________\n",
            "flatten_7 (Flatten)             (None, 16384)        0           temporal_block_15[0][0]          \n",
            "__________________________________________________________________________________________________\n",
            "model_output (Dense)            (None, 6)            98310       flatten_7[0][0]                  \n",
            "==================================================================================================\n",
            "Total params: 2,839,302\n",
            "Trainable params: 2,837,094\n",
            "Non-trainable params: 2,208\n",
            "__________________________________________________________________________________________________\n"
          ]
        }
      ],
      "source": [
        "import tensorflow as tf\n",
        "from tensorflow.keras.layers import Conv2D, Conv3D, MaxPooling3D, Flatten, Dense, Dropout, BatchNormalization, Input, \\\n",
        "    ReLU, GlobalAveragePooling3D, add\n",
        "from tensorflow.keras.models import Model\n",
        "\n",
        "\n",
        "output_shape = 6\n",
        "input = Input(shape=(11, 60, 100, 1))\n",
        "\n",
        "'''block_0'''\n",
        "b0_conv3d_1 = Conv3D(64, kernel_size=(2, 3, 3),strides=(1,2,3), padding='same', use_bias=False,\n",
        "                     name='b0_conv3d_1', kernel_initializer='he_normal')(input)\n",
        "b0_relu_1 = ReLU(name='b0_relu_1')(b0_conv3d_1)\n",
        "b0_bn_1 = BatchNormalization(name='b0_bn_1')(b0_relu_1)\n",
        "\n",
        "\n",
        "'''block_1'''\n",
        "b1_cnv3d_1 = Conv3D(filters=16, kernel_size=(3, 3, 3) ,padding='same',\n",
        "                    use_bias=False, name='b1_cnv3d_1', kernel_initializer='he_normal')(b0_bn_1)\n",
        "b1_relu_1 = ReLU(name='b1_relu_1')(b1_cnv3d_1)\n",
        "b1_bn_1 = BatchNormalization(name='b1_bn_1')(b1_relu_1)\n",
        "\n",
        "b1_cnv3d_2 = Conv3D(filters=32, kernel_size=(1, 1, 1), padding='same',\n",
        "                    use_bias=False, name='b1_cnv3d_2', kernel_initializer='he_normal')(b1_bn_1)\n",
        "b1_relu_2 = ReLU(name='b1_relu_2')(b1_cnv3d_2)\n",
        "b1_out = BatchNormalization(name='b1_out')(b1_relu_2)\n",
        "\n",
        "'''block 2'''\n",
        "b2_cnv3d_1 = Conv3D(filters=32, kernel_size=(1, 1, 1), strides=(1, 1, 1), padding='same',\n",
        "                    use_bias=False, name='b2_cnv3d_1', kernel_initializer='he_normal')(b1_out)\n",
        "b2_relu_1 = ReLU(name='b2_relu_1')(b2_cnv3d_1)\n",
        "b2_bn_1 = BatchNormalization(name='b2_bn_1')(b2_relu_1)\n",
        "\n",
        "b2_add = add([b1_out, b2_bn_1])  #\n",
        "\n",
        "b2_cnv3d_2 = Conv3D(filters=64, kernel_size=(3, 3, 3), strides=(1, 3, 4),padding='same',\n",
        "                    use_bias=False, name='b2_cnv3d_2', kernel_initializer='he_normal')(b2_add)\n",
        "b2_relu_2 = ReLU(name='b2_relu_2')(b2_cnv3d_2)\n",
        "b2_out = BatchNormalization(name='b2_out')(b2_relu_2)\n",
        "\n",
        "'''block 3'''\n",
        "b3_cnv3d_1 = Conv3D(filters=64, kernel_size=(1, 1, 1), strides=(1, 1, 1), padding='same',\n",
        "                    use_bias=False, name='b3_cnv3d_1', kernel_initializer='he_normal')(b2_out)\n",
        "b3_relu_1 = ReLU(name='b3_relu_1')(b3_cnv3d_1)\n",
        "b3_bn_1 = BatchNormalization(name='b3_bn_1')(b3_relu_1)  # size: 7*7\n",
        "\n",
        "b3_add = add([b2_out, b3_bn_1])  #\n",
        "\n",
        "b3_cnv3d_2 = Conv3D(filters=64, kernel_size=(3, 3, 3), padding='same',\n",
        "                    use_bias=False, name='b3_cnv3d_2', kernel_initializer='he_normal')(b3_add)\n",
        "b3_relu_2 = ReLU(name='b3_relu_2')(b3_cnv3d_2)\n",
        "b3_out = BatchNormalization(name='b3_out')(b3_relu_2)\n",
        "\n",
        "'''block 4'''\n",
        "\n",
        "b4_cnv3d_1 = Conv3D(filters=64, kernel_size=(1, 1, 1), strides=(1, 1, 1), padding='same',\n",
        "                    use_bias=False, name='b4_cnv3d_1', kernel_initializer='he_normal')(b3_out)\n",
        "b4_relu_1 = ReLU(name='b4_relu_1')(b4_cnv3d_1)\n",
        "b4_bn_1 = BatchNormalization(name='b4_bn_1')(b4_relu_1)\n",
        "\n",
        "b4_add = add([b3_out, b4_bn_1])  #\n",
        "\n",
        "b4_cnv3d_2 = Conv3D(filters=128, kernel_size=(3, 3, 3), strides=(1, 2, 2), padding='same',\n",
        "                    use_bias=False, name='b4_cnv3d_2', kernel_initializer='he_normal')(b4_add)\n",
        "b4_relu_2 = ReLU(name='b4_relu_2')(b4_cnv3d_2)\n",
        "b4_out = BatchNormalization(name='b4_out')(b4_relu_2)\n",
        "\n",
        "\n",
        "class Reshaper(tf.keras.layers.Layer):\n",
        "    def __init__(self, **kwargs):\n",
        "        super(Reshaper, self).__init__(**kwargs)\n",
        "\n",
        "    def call(self, inputs):\n",
        "        # Perform your TensorFlow operations here\n",
        "        # For example, let's say tf_fn is a function that reshapes the input tensor\n",
        "        output = tf.reshape(inputs, (-1,11,25*128))  # Replace with your desired shape\n",
        "        return output\n",
        "\n",
        "\n",
        "\n",
        "class Expanddim(tf.keras.layers.Layer):\n",
        "    def __init__(self, **kwargs):\n",
        "        super(Expanddim, self).__init__(**kwargs)\n",
        "\n",
        "    def call(self, inputs):\n",
        "        # Perform your TensorFlow operations here\n",
        "        # For example, let's say tf_fn is a function that reshapes the input tensor\n",
        "        output = tf.expand_dims(inputs, axis=-1)  # Replace with your desired shape\n",
        "        return output\n",
        "\n",
        "class SEAttention(tf.keras.layers.Layer):\n",
        "    def __init__(self, **kwargs):\n",
        "        super(SEAttention, self).__init__(**kwargs)\n",
        "        self.lstm = tf.keras.layers.LSTM(128)\n",
        "        self.global_avg_pool = tf.keras.layers.GlobalAveragePooling1D()\n",
        "        self.dense1 = tf.keras.layers.Dense(128, activation='relu')\n",
        "        self.dense2 = tf.keras.layers.Dense(128, activation='sigmoid')\n",
        "    def call(self, inputs):\n",
        "        # Perform your TensorFlow operations here\n",
        "        # For example, let's say tf_fn is a function that reshapes the input tensor\n",
        "        temp=self.lstm(inputs)\n",
        "        x=Expanddim()(temp)\n",
        "        x = self.global_avg_pool(x)\n",
        "        x = self.dense1(x)\n",
        "        x = self.dense2(x)\n",
        "        output = tf.keras.layers.multiply([temp, x])\n",
        "        return output\n",
        "\n",
        "class TemporalBlock(tf.keras.layers.Layer):\n",
        "    def __init__(self, out_channels, kernel_size, strides, dilation_rate, dropout, **kwargs):\n",
        "        super(TemporalBlock, self).__init__(**kwargs)\n",
        "        self.conv1 = tf.keras.layers.Conv1D(filters=out_channels, kernel_size=kernel_size, strides=strides,\n",
        "                                            padding='causal', dilation_rate=dilation_rate, activation='relu')\n",
        "        self.conv2 = tf.keras.layers.Conv1D(filters=out_channels, kernel_size=kernel_size, strides=strides,\n",
        "                                            padding='causal', dilation_rate=dilation_rate, activation='relu')\n",
        "        self.downsample = None\n",
        "        self.out_channels = out_channels\n",
        "        self.strides = strides\n",
        "        self.dropout = tf.keras.layers.Dropout(dropout)\n",
        "        self.kernel_siye=kernel\n",
        "\n",
        "    def build(self, __input_shape):\n",
        "        in_channels = __input_shape[-1]\n",
        "        if in_channels != self.out_channels:\n",
        "            self.downsample = tf.keras.Sequential()\n",
        "            self.downsample.add(tf.keras.layers.Conv1D(filters=self.out_channels, kernel_size=1, strides=self.strides))\n",
        "            self.downsample.add(tf.keras.layers.BatchNormalization())\n",
        "\n",
        "\n",
        "\n",
        "    def call(self, inputs, training=True):\n",
        "        in_channels = inputs.shape[-1]\n",
        "        residual = inputs\n",
        "\n",
        "        x = self.conv1(inputs)\n",
        "        x = self.conv2(x)\n",
        "        x = self.dropout(x, training=training)\n",
        "        if(x.shape[-1]==residual.shape[-1]):\n",
        "            x = x + residual\n",
        "        elif self.downsample is not None:\n",
        "            x = x + self.downsample(residual)\n",
        "\n",
        "        return x\n",
        "\n",
        "    def get_config(self):\n",
        "        config = super(TemporalBlock, self).get_config()\n",
        "        config.update({\n",
        "            \"out_channels\": self.out_channels,\n",
        "            \"kernel_size\": self.kernel_size,\n",
        "            \"strides\": self.strides,\n",
        "            \"dilation_rate\": self.dilation_rate,\n",
        "            \"dropout\": self.dropout_layer.rate,\n",
        "        })\n",
        "        return config\n",
        "\n",
        "\n",
        "reshaped=Reshaper()(b4_out)\n",
        "temporal1=TemporalBlock(64, 4, 1, 2, 0.5)(reshaped)\n",
        "sea=SEAttention()(temporal1)\n",
        "upshape1=Expanddim()(sea)\n",
        "temporal2=TemporalBlock(128, 8, 1, 4, 0.5)(upshape1)\n",
        "sea2=SEAttention()(temporal2)\n",
        "upshape2=Expanddim()(sea2)\n",
        "temporal3=TemporalBlock(256, 8, 1, 8, 0.5)(upshape2)\n",
        "sea3=SEAttention()(temporal3)\n",
        "upshape3=Expanddim()(sea3)\n",
        "temporal4=TemporalBlock(128, 8, 1, 10, 0.5)(upshape3)\n",
        "flatten = Flatten()(temporal4)\n",
        "output = Dense(output_shape, name='model_output', activation='softmax',\n",
        "               kernel_initializer='he_uniform')(flatten)\n",
        "model = Model(input, output)\n",
        "model.compile(loss='categorical_crossentropy', optimizer='adam', metrics=['accuracy'])\n",
        "model.summary()"
      ],
      "id": "af0481c9bbfbe546"
    },
    {
      "cell_type": "code",
      "execution_count": null,
      "metadata": {
        "ExecuteTime": {
          "start_time": "2024-05-11T19:18:34.028332Z"
        },
        "colab": {
          "base_uri": "https://localhost:8080/",
          "height": 428
        },
        "id": "e0a31d51434e8ab1",
        "jupyter": {
          "is_executing": true
        },
        "outputId": "488c9d77-e556-4683-b4cb-4ddde2a415b3"
      },
      "outputs": [
        {
          "name": "stdout",
          "output_type": "stream",
          "text": [
            "Train on 4768 samples, validate on 241 samples\n",
            "Epoch 1/50\n",
            "4768/4768 [==============================] - 20s 4ms/sample - loss: 1.2128 - accuracy: 0.4916 - val_loss: 1.7385 - val_accuracy: 0.2531\n",
            "Epoch 2/50\n",
            "4768/4768 [==============================] - 20s 4ms/sample - loss: 1.1389 - accuracy: 0.5432 - val_loss: 1.6251 - val_accuracy: 0.3859\n",
            "Epoch 3/50\n",
            "4768/4768 [==============================] - 20s 4ms/sample - loss: 1.0209 - accuracy: 0.5950 - val_loss: 1.3617 - val_accuracy: 0.4730\n",
            "Epoch 4/50\n",
            "4768/4768 [==============================] - 20s 4ms/sample - loss: 0.9608 - accuracy: 0.6225 - val_loss: 1.2754 - val_accuracy: 0.5394\n",
            "Epoch 5/50\n",
            "4768/4768 [==============================] - 20s 4ms/sample - loss: 0.8476 - accuracy: 0.6741 - val_loss: 1.1840 - val_accuracy: 0.4979\n",
            "Epoch 6/50\n",
            "4768/4768 [==============================] - 20s 4ms/sample - loss: 0.7826 - accuracy: 0.7039 - val_loss: 1.2308 - val_accuracy: 0.5643\n",
            "Epoch 7/50\n",
            "4768/4768 [==============================] - 20s 4ms/sample - loss: 0.7301 - accuracy: 0.7246 - val_loss: 1.4549 - val_accuracy: 0.5145\n",
            "Epoch 8/50\n",
            "4768/4768 [==============================] - 20s 4ms/sample - loss: 0.6871 - accuracy: 0.7414 - val_loss: 1.2416 - val_accuracy: 0.6266\n",
            "Epoch 9/50\n",
            "4768/4768 [==============================] - 20s 4ms/sample - loss: 0.6560 - accuracy: 0.7479 - val_loss: 1.1673 - val_accuracy: 0.6390\n",
            "Epoch 10/50\n",
            "4768/4768 [==============================] - 20s 4ms/sample - loss: 0.5912 - accuracy: 0.7783 - val_loss: 1.1321 - val_accuracy: 0.6515\n",
            "Epoch 11/50\n",
            "4768/4768 [==============================] - 20s 4ms/sample - loss: 0.5417 - accuracy: 0.7949 - val_loss: 1.1463 - val_accuracy: 0.6598\n",
            "Epoch 12/50\n",
            "4768/4768 [==============================] - 20s 4ms/sample - loss: 0.5063 - accuracy: 0.8098 - val_loss: 1.5011 - val_accuracy: 0.5934\n",
            "Epoch 13/50\n",
            "4768/4768 [==============================] - 20s 4ms/sample - loss: 0.4739 - accuracy: 0.8190 - val_loss: 1.3006 - val_accuracy: 0.6473\n",
            "Epoch 14/50\n",
            "4768/4768 [==============================] - 20s 4ms/sample - loss: 0.4550 - accuracy: 0.8259 - val_loss: 1.6141 - val_accuracy: 0.6473\n",
            "Epoch 15/50\n",
            "4768/4768 [==============================] - 20s 4ms/sample - loss: 0.4293 - accuracy: 0.8326 - val_loss: 1.3112 - val_accuracy: 0.6183\n",
            "Epoch 16/50\n",
            "4768/4768 [==============================] - 20s 4ms/sample - loss: 0.4209 - accuracy: 0.8383 - val_loss: 1.2328 - val_accuracy: 0.6266\n",
            "Epoch 17/50\n",
            "4768/4768 [==============================] - 20s 4ms/sample - loss: 0.3961 - accuracy: 0.8496 - val_loss: 1.3030 - val_accuracy: 0.6058\n",
            "Epoch 18/50\n",
            "4768/4768 [==============================] - 20s 4ms/sample - loss: 0.3834 - accuracy: 0.8538 - val_loss: 1.3841 - val_accuracy: 0.6307\n",
            "Epoch 19/50\n",
            "4768/4768 [==============================] - 20s 4ms/sample - loss: 0.3508 - accuracy: 0.8651 - val_loss: 1.3853 - val_accuracy: 0.6473\n",
            "Epoch 20/50\n",
            "4768/4768 [==============================] - 20s 4ms/sample - loss: 0.3545 - accuracy: 0.8664 - val_loss: 1.3801 - val_accuracy: 0.6763\n",
            "Epoch 21/50\n",
            "4768/4768 [==============================] - 20s 4ms/sample - loss: 0.3426 - accuracy: 0.8687 - val_loss: 1.7031 - val_accuracy: 0.5934\n",
            "Epoch 22/50\n",
            "4768/4768 [==============================] - 20s 4ms/sample - loss: 0.3274 - accuracy: 0.8777 - val_loss: 1.6997 - val_accuracy: 0.6307\n",
            "Epoch 23/50\n",
            "4768/4768 [==============================] - 20s 4ms/sample - loss: 0.3061 - accuracy: 0.8851 - val_loss: 1.4226 - val_accuracy: 0.5602\n",
            "Epoch 24/50\n",
            "4768/4768 [==============================] - 20s 4ms/sample - loss: 0.2945 - accuracy: 0.8886 - val_loss: 1.4964 - val_accuracy: 0.6680\n",
            "Epoch 25/50\n",
            "4768/4768 [==============================] - 20s 4ms/sample - loss: 0.2839 - accuracy: 0.8970 - val_loss: 1.6219 - val_accuracy: 0.6141\n",
            "Epoch 26/50\n",
            "4768/4768 [==============================] - 20s 4ms/sample - loss: 0.2873 - accuracy: 0.8905 - val_loss: 1.7774 - val_accuracy: 0.6141\n",
            "Epoch 27/50\n",
            "4768/4768 [==============================] - 20s 4ms/sample - loss: 0.2795 - accuracy: 0.8981 - val_loss: 1.6353 - val_accuracy: 0.6515\n",
            "Epoch 28/50\n",
            "4768/4768 [==============================] - 20s 4ms/sample - loss: 0.2710 - accuracy: 0.8993 - val_loss: 1.6913 - val_accuracy: 0.6183\n",
            "Epoch 29/50\n",
            "4768/4768 [==============================] - 20s 4ms/sample - loss: 0.2264 - accuracy: 0.9138 - val_loss: 2.1589 - val_accuracy: 0.5892\n",
            "Epoch 30/50\n",
            "4736/4768 [============================>.] - ETA: 0s - loss: 0.2273 - accuracy: 0.9153Restoring model weights from the end of the best epoch.\n",
            "4768/4768 [==============================] - 20s 4ms/sample - loss: 0.2266 - accuracy: 0.9157 - val_loss: 1.7082 - val_accuracy: 0.6141\n",
            "Epoch 00030: early stopping\n"
          ]
        },
        {
          "data": {
            "text/plain": [
              "<tensorflow.python.keras.callbacks.History at 0x7f8f8450ca20>"
            ]
          },
          "execution_count": 47,
          "metadata": {},
          "output_type": "execute_result"
        }
      ],
      "source": [
        "es = tf.keras.callbacks.EarlyStopping(monitor='val_accuracy', verbose=1, patience=10, restore_best_weights=True,\n",
        "                                      min_delta=0.001)\n",
        "model.fit(X_train, Y_train, batch_size=64, epochs=50, verbose=1, validation_data=(X_valid, Y_valid,), callbacks=[es])"
      ],
      "id": "e0a31d51434e8ab1"
    },
    {
      "cell_type": "markdown",
      "metadata": {
        "id": "63aa6453466d0312"
      },
      "source": [
        "Eval"
      ],
      "id": "63aa6453466d0312"
    },
    {
      "cell_type": "code",
      "execution_count": null,
      "metadata": {
        "colab": {
          "base_uri": "https://localhost:8080/",
          "height": 453
        },
        "id": "fb455dbe57e41d56",
        "outputId": "a85693f0-de1d-4187-e858-f619299d7c92"
      },
      "outputs": [
        {
          "data": {
            "text/plain": [
              "<matplotlib.axes._subplots.AxesSubplot at 0x7f8f84540978>"
            ]
          },
          "execution_count": 48,
          "metadata": {},
          "output_type": "execute_result"
        },
        {
          "data": {
            "image/png": "[encoded data removed]",
            "text/plain": [
              "<Figure size 432x288 with 2 Axes>"
            ]
          },
          "metadata": {
            "needs_background": "light"
          },
          "output_type": "display_data"
        }
      ],
      "source": [
        "from sklearn.metrics import confusion_matrix\n",
        "import seaborn as sns\n",
        "conf=confusion_matrix(np.argmax(Y_test,1),np.argmax(preds,1))\n",
        "sns.heatmap(conf, annot=True, fmt='d', vmax=100)"
      ],
      "id": "fb455dbe57e41d56"
    },
    {
      "cell_type": "code",
      "execution_count": null,
      "metadata": {
        "colab": {
          "base_uri": "https://localhost:8080/"
        },
        "id": "1d089cc3224c6db8",
        "outputId": "c4a8e772-0028-433b-c151-4b506df82f7d"
      },
      "outputs": [
        {
          "name": "stdout",
          "output_type": "stream",
          "text": [
            "              precision    recall  f1-score   support\n",
            "\n",
            "           0       0.70      0.74      0.72        50\n",
            "           1       0.67      0.94      0.78        36\n",
            "           2       0.65      0.40      0.49        50\n",
            "           3       0.58      0.79      0.67        28\n",
            "           4       0.90      0.70      0.79        50\n",
            "           5       0.58      0.61      0.59        31\n",
            "\n",
            "    accuracy                           0.68       245\n",
            "   macro avg       0.68      0.70      0.67       245\n",
            "weighted avg       0.69      0.68      0.67       245\n"
          ]
        }
      ],
      "source": [
        "from sklearn.metrics import classification_report\n",
        "\n",
        "preds = model.predict(X_test)\n",
        "\n",
        "print(classification_report(np.argmax(Y_test,1),np.argmax(preds,1)))"
      ],
      "id": "1d089cc3224c6db8"
    }
  ],
  "metadata": {
    "accelerator": "TPU",
    "colab": {
      "gpuType": "V28",
      "provenance": [],
      "include_colab_link": true
    },
    "kernelspec": {
      "display_name": "Python 3",
      "language": "python",
      "name": "python3"
    },
    "language_info": {
      "codemirror_mode": {
        "name": "ipython",
        "version": 3
      },
      "file_extension": ".py",
      "mimetype": "text/x-python",
      "name": "python",
      "nbconvert_exporter": "python",
      "pygments_lexer": "ipython3",
      "version": "3.6.9"
    }
  },
  "nbformat": 4,
  "nbformat_minor": 5
}