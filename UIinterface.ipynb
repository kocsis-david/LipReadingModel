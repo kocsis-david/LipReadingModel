{
 "cells": [
  {
   "cell_type": "code",
   "id": "initial_id",
   "metadata": {
    "collapsed": true,
    "ExecuteTime": {
     "end_time": "2024-05-16T15:33:58.478909Z",
     "start_time": "2024-05-16T15:33:58.293358Z"
    }
   },
   "source": [
    "import gradio as gr\n",
    "import tensorflow as tf\n",
    "\n",
    "\n",
    "modelpath='/Users/koksziszdave/Egyetem/AIT/LipReadingModel/model.dilatatedcovnet.h5'\n",
    "model = tf.keras.models.load_model(modelpath)\n",
    "import cv2\n",
    "\n",
    "def getFrames(video):\n",
    "    cap = cv2.VideoCapture(video)\n",
    "    frames = []\n",
    "    while True:\n",
    "        ret, frame = cap.read()\n",
    "        if not ret:\n",
    "            break\n",
    "        frames.append(frame)\n",
    "    cap.release()\n",
    "    return frames\n",
    "\n",
    "def to_gray(frames):\n",
    "    gray_frames = []\n",
    "    for j in range(len(frames)):\n",
    "        gray_img = cv2.cvtColor(frames[j], cv2.COLOR_BGR2GRAY)\n",
    "        gray_img = cv2.resize(gray_img, (gray_img.shape[1] ,  gray_img.shape[0]))\n",
    "        gray_frames.append(gray_img)\n",
    "        \n",
    "    return gray_frames\n",
    "\n",
    "def face_detect(face_classifier, images):\n",
    "   \n",
    "    detected_faces = []\n",
    "    for j in range(len(images)):\n",
    "        face = face_classifier.detectMultiScale(\n",
    "                images[j], scaleFactor=1.1, minNeighbors=5, minSize=(40, 40)\n",
    "        )\n",
    "        if len(face) == 1:\n",
    "            for (x, y, w, h) in face:\n",
    "                cv2.rectangle(images[j], (x, y), (x + w, y + h), (0, 255, 0), 4)\n",
    "                detected_faces.append((x, y, w, h))\n",
    "        \n",
    "    \n",
    "    \n",
    "    return detected_faces\n",
    "\n",
    "from imutils import face_utils\n",
    "import dlib\n",
    "import numpy as np\n",
    "def lip_detect(images, og_images, predictor):\n",
    "    \n",
    "    lips_list = []\n",
    "    for j in range(len(images)):\n",
    "        frame = og_images[j]\n",
    "        x, y, w, h = images[j] \n",
    "        face_box = dlib.rectangle(left=x, top=y, right=x + w, bottom=y + h)\n",
    "        shape = predictor(frame, face_box) \n",
    "        shape = face_utils.shape_to_np(shape)\n",
    "        \n",
    "        (x, y, w, h) = cv2.boundingRect(np.array([shape[48:68]]))\n",
    "        margin = 10\n",
    "        lips = frame[y-margin:y+h+margin, x-margin:x+w+margin]\n",
    "        lips = cv2.resize(lips,(100,60))\n",
    "        lips_list.append(lips)\n",
    "        \n",
    "    return lips_list\n",
    "\n",
    "def get_middle_frames(lips, frame_num):\n",
    "    separator = (29 - frame_num) // 2\n",
    "    middle_frames = lips[separator:separator + frame_num]\n",
    "    return middle_frames\n",
    "\n",
    "import csv\n",
    "def load_labels():\n",
    "    with open('labels.csv', mode='r') as file:\n",
    "        reader = csv.reader(file)\n",
    "        labels = list(reader)\n",
    "    return labels\n",
    "\n",
    "def predict(frames, model):\n",
    "    frames = np.array(frames)\n",
    "    print(frames.shape)\n",
    "    frames = frames / 255.0\n",
    "    frames = frames.reshape(11, 60, 100, 1)\n",
    "    prediction = model.predict(frames)\n",
    "    word = np.argmax(prediction)\n",
    "    labels=load_labels()\n",
    "    \n",
    "    return labels[word][0]\n",
    "\n",
    "def getWord(video):\n",
    "    frames=getFrames(video)\n",
    "    grayframes=to_gray(frames)\n",
    "    grayframes=np.array(grayframes)\n",
    "    print(grayframes.shape) \n",
    "    face_classifier = cv2.CascadeClassifier(cv2.data.haarcascades + 'haarcascade_frontalface_default.xml')\n",
    "    detectedfacebb=face_detect(face_classifier,grayframes)\n",
    "    \n",
    "    \n",
    "    predictor_path = r'/Users/koksziszdave/Egyetem/AIT/Models/shape_predictor_68_face_landmarks.dat'\n",
    "    predictor = dlib.shape_predictor(predictor_path)\n",
    "    lips=lip_detect(detectedfacebb,frames,predictor)\n",
    "    print(np.array(lips).shape)\n",
    "    final_frames=get_middle_frames(lips,11)\n",
    "    word=predict(final_frames,model)\n",
    "    \n",
    "    return  word\n",
    "    \n"
   ],
   "outputs": [
    {
     "name": "stderr",
     "output_type": "stream",
     "text": [
      "WARNING:absl:Compiled the loaded model, but the compiled metrics have yet to be built. `model.compile_metrics` will be empty until you train or evaluate the model.\n"
     ]
    }
   ],
   "execution_count": 36
  },
  {
   "metadata": {
    "ExecuteTime": {
     "end_time": "2024-05-16T15:34:00.853387Z",
     "start_time": "2024-05-16T15:33:59.643645Z"
    }
   },
   "cell_type": "code",
   "source": [
    "videopath='/Users/koksziszdave/Downloads/lipread_mp4/ABOUT/test/ABOUT_00044.mp4'\n",
    "word=getWord(videopath)\n",
    "print(word)"
   ],
   "id": "2d356f4cb8f838ef",
   "outputs": [
    {
     "name": "stdout",
     "output_type": "stream",
     "text": [
      "(29, 256, 256)\n",
      "(29, 60, 100, 3)\n",
      "(11, 60, 100, 3)\n"
     ]
    },
    {
     "ename": "ValueError",
     "evalue": "cannot reshape array of size 198000 into shape (11,60,100,1)",
     "output_type": "error",
     "traceback": [
      "\u001B[0;31m---------------------------------------------------------------------------\u001B[0m",
      "\u001B[0;31mValueError\u001B[0m                                Traceback (most recent call last)",
      "Cell \u001B[0;32mIn[37], line 2\u001B[0m\n\u001B[1;32m      1\u001B[0m videopath\u001B[38;5;241m=\u001B[39m\u001B[38;5;124m'\u001B[39m\u001B[38;5;124m/Users/koksziszdave/Downloads/lipread_mp4/ABOUT/test/ABOUT_00044.mp4\u001B[39m\u001B[38;5;124m'\u001B[39m\n\u001B[0;32m----> 2\u001B[0m word\u001B[38;5;241m=\u001B[39m\u001B[43mgetWord\u001B[49m\u001B[43m(\u001B[49m\u001B[43mvideopath\u001B[49m\u001B[43m)\u001B[49m\n\u001B[1;32m      3\u001B[0m \u001B[38;5;28mprint\u001B[39m(word)\n",
      "Cell \u001B[0;32mIn[36], line 103\u001B[0m, in \u001B[0;36mgetWord\u001B[0;34m(video)\u001B[0m\n\u001B[1;32m    101\u001B[0m \u001B[38;5;28mprint\u001B[39m(np\u001B[38;5;241m.\u001B[39marray(lips)\u001B[38;5;241m.\u001B[39mshape)\n\u001B[1;32m    102\u001B[0m final_frames\u001B[38;5;241m=\u001B[39mget_middle_frames(lips,\u001B[38;5;241m11\u001B[39m)\n\u001B[0;32m--> 103\u001B[0m word\u001B[38;5;241m=\u001B[39m\u001B[43mpredict\u001B[49m\u001B[43m(\u001B[49m\u001B[43mfinal_frames\u001B[49m\u001B[43m,\u001B[49m\u001B[43mmodel\u001B[49m\u001B[43m)\u001B[49m\n\u001B[1;32m    105\u001B[0m \u001B[38;5;28;01mreturn\u001B[39;00m  word\n",
      "Cell \u001B[0;32mIn[36], line 82\u001B[0m, in \u001B[0;36mpredict\u001B[0;34m(frames, model)\u001B[0m\n\u001B[1;32m     80\u001B[0m \u001B[38;5;28mprint\u001B[39m(frames\u001B[38;5;241m.\u001B[39mshape)\n\u001B[1;32m     81\u001B[0m frames \u001B[38;5;241m=\u001B[39m frames \u001B[38;5;241m/\u001B[39m \u001B[38;5;241m255.0\u001B[39m\n\u001B[0;32m---> 82\u001B[0m frames \u001B[38;5;241m=\u001B[39m \u001B[43mframes\u001B[49m\u001B[38;5;241;43m.\u001B[39;49m\u001B[43mreshape\u001B[49m\u001B[43m(\u001B[49m\u001B[38;5;241;43m11\u001B[39;49m\u001B[43m,\u001B[49m\u001B[43m \u001B[49m\u001B[38;5;241;43m60\u001B[39;49m\u001B[43m,\u001B[49m\u001B[43m \u001B[49m\u001B[38;5;241;43m100\u001B[39;49m\u001B[43m,\u001B[49m\u001B[43m \u001B[49m\u001B[38;5;241;43m1\u001B[39;49m\u001B[43m)\u001B[49m\n\u001B[1;32m     83\u001B[0m prediction \u001B[38;5;241m=\u001B[39m model\u001B[38;5;241m.\u001B[39mpredict(frames)\n\u001B[1;32m     84\u001B[0m word \u001B[38;5;241m=\u001B[39m np\u001B[38;5;241m.\u001B[39margmax(prediction)\n",
      "\u001B[0;31mValueError\u001B[0m: cannot reshape array of size 198000 into shape (11,60,100,1)"
     ]
    }
   ],
   "execution_count": 37
  },
  {
   "metadata": {},
   "cell_type": "code",
   "outputs": [],
   "execution_count": null,
   "source": [
    "\n",
    "\n",
    "demo = gr.Interface(fn=getWord, inputs=\"video\", outputs=\"image\", title=\"Lip Reading Model\", description=\"This model can predict the word from a video of a person speaking.\")\n",
    "\n",
    "demo.launch(share=True)  # Share your demo with just 1 extra parameter 🚀"
   ],
   "id": "1872300011d43a05"
  },
  {
   "metadata": {},
   "cell_type": "code",
   "outputs": [],
   "execution_count": null,
   "source": "",
   "id": "f07b25060a3daed2"
  }
 ],
 "metadata": {
  "kernelspec": {
   "display_name": "Python 3",
   "language": "python",
   "name": "python3"
  },
  "language_info": {
   "codemirror_mode": {
    "name": "ipython",
    "version": 2
   },
   "file_extension": ".py",
   "mimetype": "text/x-python",
   "name": "python",
   "nbconvert_exporter": "python",
   "pygments_lexer": "ipython2",
   "version": "2.7.6"
  }
 },
 "nbformat": 4,
 "nbformat_minor": 5
}
