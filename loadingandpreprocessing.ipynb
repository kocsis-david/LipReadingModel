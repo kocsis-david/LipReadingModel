{
 "cells": [
  {
   "cell_type": "code",
   "execution_count": null,
   "id": "initial_id",
   "metadata": {
    "collapsed": true
   },
   "outputs": [],
   "source": [
    "import tensorflow\n",
    "import os\n",
    "import cv2\n",
    "import numpy as np\n",
    "data_src=\"/Users/koksziszdave/Downloads/lipread_test\""
   ]
  },
  {
   "cell_type": "code",
   "outputs": [],
   "source": [
    "def togreyscale(aframes):\n",
    "\n",
    "    gf = np.zeros((aframes.shape[0], aframes.shape[1], aframes.shape[2],1))\n",
    "    for i in range(aframes.shape[0]):\n",
    "        gf[i] = cv2.cvtColor(aframes[i], cv2.COLOR_BGR2GRAY).reshape(aframes.shape[1], aframes.shape[2], 1)\n",
    "        gf[i] = gf[i]/255.0\n",
    "    return gf\n"
   ],
   "metadata": {
    "collapsed": false
   },
   "id": "d3d5bb748b10f2c"
  },
  {
   "cell_type": "code",
   "outputs": [],
   "source": [
    "def load_data(dataset_path):\n",
    "\n",
    "    X_train , Y_train , X_valid,Y_valid, X_test, Y_test = [], [], [], [], [], []\n",
    "    labels = []\n",
    "    i=0\n",
    "    for label_dir in os.listdir(dataset_path):\n",
    "        label_path = os.path.join(dataset_path, label_dir)\n",
    "        labels.append(label_dir)\n",
    "        i=i+1\n",
    "        if not os.path.isdir(label_path):\n",
    "            continue\n",
    "        for data_type in ['train', 'val', 'test']:  # Assuming all data in one directory\n",
    "            data_type_path = os.path.join(label_path, data_type)\n",
    "\n",
    "            for filename in os.listdir(data_type_path):\n",
    "                if filename.endswith('.mp4'):\n",
    "                    video_path = os.path.join(data_type_path, filename)\n",
    "\n",
    "                    # Use opencv to read video frames efficiently\n",
    "                    cap = cv2.VideoCapture(video_path)\n",
    "                    frames = []\n",
    "                    while True:\n",
    "                        ret, frame = cap.read()\n",
    "                        if not ret:\n",
    "                            break\n",
    "                        frames.append(frame)\n",
    "                    cap.release()\n",
    "                    if data_type == 'train':\n",
    "                        aframes = np.array(frames)\n",
    "                        gframes = togreyscale(aframes)\n",
    "                        X_train.append(gframes)\n",
    "                        Y_train.append(i-2)\n",
    "                    elif data_type == 'val':\n",
    "                        aframes = np.array(frames)\n",
    "                        \n",
    "                        gframes = togreyscale(aframes)\n",
    "                        X_valid.append(gframes)\n",
    "                        Y_valid.append(i-2)\n",
    "                    elif data_type == 'test':\n",
    "                        aframes = np.array(frames)\n",
    "\n",
    "                        gframes = togreyscale(aframes)\n",
    "                        X_test.append(gframes)\n",
    "                        Y_test.append(i-2)\n",
    "\n",
    "    Y_train = np.array(Y_train).reshape(-1, 1)\n",
    "    Y_valid = np.array(Y_valid).reshape(-1, 1)\n",
    "    Y_test = np.array(Y_test).reshape(-1, 1)\n",
    "\n",
    "    nb_classes = len(np.unique(Y_train))\n",
    "    Y_train = tensorflow.keras.utils.to_categorical(Y_train, nb_classes)\n",
    "    Y_valid = tensorflow.keras.utils.to_categorical(Y_valid, nb_classes)\n",
    "    Y_test = tensorflow.keras.utils.to_categorical(Y_test, nb_classes)\n",
    "\n",
    "\n",
    "    return X_train , Y_train , X_valid,Y_valid, X_test, Y_test"
   ],
   "metadata": {
    "collapsed": false
   },
   "id": "616adf89b269df74"
  },
  {
   "cell_type": "code",
   "outputs": [],
   "source": [
    "X_train , Y_train , X_valid,Y_valid, X_test, Y_test = load_data(data_src)\n",
    "\n",
    "print(X_valid[0].shape, Y_valid[0])"
   ],
   "metadata": {
    "collapsed": false
   },
   "id": "4b11925a889f37a4"
  }
 ],
 "metadata": {
  "kernelspec": {
   "display_name": "Python 3",
   "language": "python",
   "name": "python3"
  },
  "language_info": {
   "codemirror_mode": {
    "name": "ipython",
    "version": 2
   },
   "file_extension": ".py",
   "mimetype": "text/x-python",
   "name": "python",
   "nbconvert_exporter": "python",
   "pygments_lexer": "ipython2",
   "version": "2.7.6"
  }
 },
 "nbformat": 4,
 "nbformat_minor": 5
}
